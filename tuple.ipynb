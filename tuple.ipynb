{
 "cells": [
  {
   "cell_type": "code",
   "execution_count": 3,
   "id": "0c11ba2d-1cae-4195-8095-361330d87c6c",
   "metadata": {},
   "outputs": [],
   "source": [
    "# tuple.\n",
    "#1.it is the collection of homogenious and hectro genius element.\n",
    "# 2. the element are separtaed by comma,.\n",
    "# 3.it is immutable that means it doesnot change the original tuple.\n",
    "# 4. inside a tuple the single element written by (element,)\n",
    "# 5. to find the length of element in tuple to use -->>len(tuple)\n",
    "# 6. constuctor -->> tuple()\n",
    "# 7. deafult value -->>()\n",
    "# 8. typecasting -->> str,list,set,dic\n",
    "# 9. it support indexing and slicing.\n"
   ]
  },
  {
   "cell_type": "code",
   "execution_count": 4,
   "id": "d536ec21-6c0e-4c03-868a-657802f5ab1c",
   "metadata": {},
   "outputs": [
    {
     "name": "stdout",
     "output_type": "stream",
     "text": [
      "2785561002432\n"
     ]
    }
   ],
   "source": [
    "tupl_1=(1,1,2,3,4,[\"jagatjit\",78,98+6j,89,7.7],{45,67,98,23})\n",
    "print(id(tupl_1))"
   ]
  },
  {
   "cell_type": "code",
   "execution_count": 5,
   "id": "f442e6dc-333b-43e0-9f8f-5c480004496f",
   "metadata": {},
   "outputs": [
    {
     "name": "stdout",
     "output_type": "stream",
     "text": [
      "(2,) <class 'tuple'>\n"
     ]
    }
   ],
   "source": [
    "# in single :\n",
    "a=(2,)\n",
    "print(a,type(a))"
   ]
  },
  {
   "cell_type": "code",
   "execution_count": 6,
   "id": "30b84b89-2dc6-4659-a3c3-146e9ccdba97",
   "metadata": {},
   "outputs": [
    {
     "name": "stdout",
     "output_type": "stream",
     "text": [
      "()\n"
     ]
    }
   ],
   "source": [
    "# constructor.\n",
    "print(tuple())"
   ]
  },
  {
   "cell_type": "code",
   "execution_count": 8,
   "id": "b5cfb3d9-61ca-4850-8430-41e7656592e4",
   "metadata": {},
   "outputs": [
    {
     "name": "stdout",
     "output_type": "stream",
     "text": [
      "('j', 'a', 'g', 'a', 't', 'j', 'i', 't') (4, 5, 6, 7, 89.09) ('a', 1, 2, 3, 'c', 'b') ('jagatjit', 'biswajit')\n"
     ]
    }
   ],
   "source": [
    "# type casting.\n",
    "print(tuple(\"jagatjit\"),\n",
    "     tuple([4,5,6,7,89.09]),\n",
    "     tuple({1,2,3,\"a\",\"b\",\"c\"}),\n",
    "     tuple({\"jagatjit\":\"seemarani\",\"biswajit\":\"barsharani\"}))"
   ]
  },
  {
   "cell_type": "code",
   "execution_count": 1,
   "id": "36a47605-1f72-46a7-a3b8-1e97f8444487",
   "metadata": {},
   "outputs": [
    {
     "name": "stdout",
     "output_type": "stream",
     "text": [
      "1\n"
     ]
    }
   ],
   "source": [
    "# Methods in tuple.\n",
    "#   count-->> this method returns the count of repeated element in a tuple.\n",
    "# syntax-->> variablename.count(element)\n",
    "t_=(1,2,3,4,\"jagatjit\")\n",
    "print(t_.count(\"jagatjit\"))"
   ]
  },
  {
   "cell_type": "code",
   "execution_count": 13,
   "id": "508ae5d9-1466-4291-b3d4-47bb2c967ad0",
   "metadata": {},
   "outputs": [
    {
     "name": "stdout",
     "output_type": "stream",
     "text": [
      "2\n"
     ]
    }
   ],
   "source": [
    "# index()-->> it returns the index of the element at first accurence in a tuple.\n",
    "t_=(1,2,3,4,\"jagatjit\")\n",
    "print(t_.index(3))"
   ]
  },
  {
   "cell_type": "code",
   "execution_count": 2,
   "id": "5c5c9afb-d321-4d88-91e9-d2790e820804",
   "metadata": {},
   "outputs": [
    {
     "name": "stdout",
     "output_type": "stream",
     "text": [
      "(1, 2, 6, 7, 45.7, 98, 89.9, {'jaga': 'biswajit'})\n"
     ]
    }
   ],
   "source": [
    "t1=(1,2,6,7)\n",
    "t2=(45.7,98,89.9,{\"jaga\":\"biswajit\"})\n",
    "print(t1+t2)"
   ]
  },
  {
   "cell_type": "code",
   "execution_count": 3,
   "id": "8cd884da-7e62-4f6a-a48e-93001d2a394a",
   "metadata": {},
   "outputs": [
    {
     "name": "stdout",
     "output_type": "stream",
     "text": [
      "(1, 2, 6, 7, 1, 2, 6, 7, 1, 2, 6, 7)\n"
     ]
    }
   ],
   "source": [
    "# *\n",
    "t1=(1,2,6,7)*3\n",
    "print(t1)"
   ]
  },
  {
   "cell_type": "code",
   "execution_count": 4,
   "id": "39b344ef-10d8-499a-862e-a8a3ee2aa5a6",
   "metadata": {},
   "outputs": [
    {
     "name": "stdout",
     "output_type": "stream",
     "text": [
      "(7, 6, 2, 1)\n",
      "(1, 6)\n",
      "(1, 2, 6, 7)\n"
     ]
    }
   ],
   "source": [
    "# slicing\n",
    "t1=(1,2,6,7)\n",
    "print(t1[::-1])\n",
    "print(t1[0:len(t1):2])\n",
    "print(t1[:len(t1):])"
   ]
  },
  {
   "cell_type": "code",
   "execution_count": null,
   "id": "ea5f7074-71f9-457e-9397-9b98772d2dfb",
   "metadata": {},
   "outputs": [],
   "source": []
  },
  {
   "cell_type": "code",
   "execution_count": 5,
   "id": "3775d66d-3e6d-4631-bd06-5fb7375d6846",
   "metadata": {},
   "outputs": [
    {
     "name": "stdin",
     "output_type": "stream",
     "text": [
      "enter your tuple: hgbugcg bdhugcdyg dhgyg\n"
     ]
    },
    {
     "name": "stdout",
     "output_type": "stream",
     "text": [
      "('hgbugcg', 'bdhugcdyg', 'dhgyg')\n",
      "<class 'tuple'>\n",
      "hgbugcg\n"
     ]
    },
    {
     "name": "stdin",
     "output_type": "stream",
     "text": [
      "enter your index 2\n"
     ]
    },
    {
     "name": "stdout",
     "output_type": "stream",
     "text": [
      "your resultant charecter is: dhgyg\n"
     ]
    }
   ],
   "source": [
    "#idexing.\n",
    "t_2=tuple(input(\"enter your tuple:\" ).split())\n",
    "print(t_2)\n",
    "print(type(t_2))\n",
    "print(t_2[0])\n",
    "index_=int(input(\"enter your index\"))\n",
    "print(\"your resultant charecter is:\", t_2[index_])\n",
    "\n",
    "\n"
   ]
  },
  {
   "cell_type": "code",
   "execution_count": 1,
   "id": "300e983b-f300-4718-97aa-af3dd2a963c1",
   "metadata": {},
   "outputs": [
    {
     "name": "stdout",
     "output_type": "stream",
     "text": [
      "<class 'tuple'>\n"
     ]
    }
   ],
   "source": [
    "# single value tapule creation.\n",
    "tuple_1=(1,)\n",
    "print(type(tuple_1))"
   ]
  },
  {
   "cell_type": "code",
   "execution_count": 5,
   "id": "1ea285e8-6855-4ea6-80d2-a4caf3061c2e",
   "metadata": {},
   "outputs": [
    {
     "name": "stdout",
     "output_type": "stream",
     "text": [
      "2055679695488\n",
      "2055673821696\n"
     ]
    }
   ],
   "source": [
    "# find the realtion between id1 and id2.\n",
    "t1=(1,2,3)\n",
    "id1=id(t1)\n",
    "print(id1)\n",
    "t2=(4,5,6)\n",
    "t1=t1+t2\n",
    "id2=id(t2)\n",
    "print(id2)\n"
   ]
  },
  {
   "cell_type": "code",
   "execution_count": 9,
   "id": "2422d571-26d7-4405-b6d7-e2d58d26fca3",
   "metadata": {},
   "outputs": [
    {
     "name": "stdout",
     "output_type": "stream",
     "text": [
      "<class 'tuple'>\n"
     ]
    }
   ],
   "source": [
    "#3.\n",
    "t1=(1,2,3)\n",
    "t2=(4,5,6)\n",
    "print(type((*t1,*t2)))"
   ]
  },
  {
   "cell_type": "code",
   "execution_count": 10,
   "id": "09a44d10-fc3f-4636-a134-183f0aa355bb",
   "metadata": {},
   "outputs": [],
   "source": [
    "#4."
   ]
  },
  {
   "cell_type": "code",
   "execution_count": 13,
   "id": "6fd5b306-e995-4ade-a341-6def6fc0032c",
   "metadata": {},
   "outputs": [
    {
     "name": "stdout",
     "output_type": "stream",
     "text": [
      "(1, 2, 3, 4, 9)\n"
     ]
    }
   ],
   "source": [
    "t1=(1,2,3,4)\n",
    "t2=(9,)\n",
    "t1=t1+t2\n",
    "print(t1)"
   ]
  },
  {
   "cell_type": "code",
   "execution_count": null,
   "id": "72acbb03-1b9b-4d52-86d0-aad94a6565d4",
   "metadata": {},
   "outputs": [],
   "source": []
  }
 ],
 "metadata": {
  "kernelspec": {
   "display_name": "Python 3 (ipykernel)",
   "language": "python",
   "name": "python3"
  },
  "language_info": {
   "codemirror_mode": {
    "name": "ipython",
    "version": 3
   },
   "file_extension": ".py",
   "mimetype": "text/x-python",
   "name": "python",
   "nbconvert_exporter": "python",
   "pygments_lexer": "ipython3",
   "version": "3.12.4"
  }
 },
 "nbformat": 4,
 "nbformat_minor": 5
}
