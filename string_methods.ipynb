{
 "cells": [
  {
   "cell_type": "code",
   "execution_count": 2,
   "id": "c705f024-a6d0-470a-aa7d-0862a44201aa",
   "metadata": {},
   "outputs": [],
   "source": [
    "#find() -> this method gives the index of the substring.\n",
    "#--------> it gives the index of the string in first currence.\n",
    "# if the sub string is not found it gives the -1 value.\n"
   ]
  },
  {
   "cell_type": "code",
   "execution_count": 4,
   "id": "50cb5b33-9e65-4033-b511-b7b8c98ab744",
   "metadata": {},
   "outputs": [
    {
     "name": "stdin",
     "output_type": "stream",
     "text": [
      "enter the string: jagatjit\n",
      "enter the sub_str: p\n"
     ]
    },
    {
     "name": "stdout",
     "output_type": "stream",
     "text": [
      "-1\n"
     ]
    }
   ],
   "source": [
    "str1=input(\"enter the string:\")\n",
    "sub_str=input(\"enter the sub_str:\")\n",
    "print(str1.find(sub_str))"
   ]
  },
  {
   "cell_type": "code",
   "execution_count": 5,
   "id": "25bc3685-c988-41c7-a8b8-21c18a7abce4",
   "metadata": {},
   "outputs": [],
   "source": [
    "# count()-->> this method is used to find who much time a particular charecter repitated.\n"
   ]
  },
  {
   "cell_type": "code",
   "execution_count": 7,
   "id": "eab39e1a-7e5e-41fa-85d2-d7e87c5d1f63",
   "metadata": {},
   "outputs": [
    {
     "name": "stdout",
     "output_type": "stream",
     "text": [
      "1\n",
      "2\n"
     ]
    }
   ],
   "source": [
    "str4=\"Good morning maam\"\n",
    "print(str4.count(\"G\"))\n",
    "print(str4.count(\"o\",2))"
   ]
  },
  {
   "cell_type": "code",
   "execution_count": 11,
   "id": "732c9b2f-d7f4-4059-8d48-d57ef1128047",
   "metadata": {},
   "outputs": [
    {
     "name": "stdin",
     "output_type": "stream",
     "text": [
      "enter the string: i am good\n",
      "enter the char_: goid\n"
     ]
    },
    {
     "name": "stdout",
     "output_type": "stream",
     "text": [
      " am \n"
     ]
    }
   ],
   "source": [
    "# to remove charecters from string \n",
    "# ordering are not mandatory.it cheack only the charecter.\n",
    "#strip\n",
    "str5=input(\"enter the string:\")\n",
    "char_=input(\"enter the char_:\")\n",
    "print(str5.strip(char_))"
   ]
  },
  {
   "cell_type": "code",
   "execution_count": 15,
   "id": "d4523e66-c03a-4834-be40-5fece5655d1a",
   "metadata": {},
   "outputs": [
    {
     "name": "stdin",
     "output_type": "stream",
     "text": [
      "enter the string: OUT PUT \n",
      "enter the str_char: TUO \n"
     ]
    },
    {
     "name": "stdout",
     "output_type": "stream",
     "text": [
      "PUT \n"
     ]
    }
   ],
   "source": [
    "# lstrip()-->> it removes only leading charecter in a string\n",
    "str6=input(\"enter the string:\")\n",
    "char_str=input(\"enter the str_char:\")\n",
    "print(str6.lstrip(char_str))"
   ]
  },
  {
   "cell_type": "code",
   "execution_count": 19,
   "id": "da99e519-4850-4361-98f8-4f3c09d3645c",
   "metadata": {},
   "outputs": [
    {
     "name": "stdin",
     "output_type": "stream",
     "text": [
      "enter the string: jagatjit behera\n",
      "enter the str_char: raegaj\n"
     ]
    },
    {
     "name": "stdout",
     "output_type": "stream",
     "text": [
      "jagatjit beh\n"
     ]
    }
   ],
   "source": [
    "# rstrip()-->>  it removes only right to left charecter in a string.\n",
    "str7=input(\"enter the string:\")\n",
    "cha_str=input(\"enter the str_char:\")\n",
    "print(str7.rstrip(cha_str))"
   ]
  },
  {
   "cell_type": "code",
   "execution_count": 4,
   "id": "a03a410d-8e9f-4848-8278-59e99195419b",
   "metadata": {},
   "outputs": [
    {
     "name": "stdout",
     "output_type": "stream",
     "text": [
      "a@b@7\n",
      "jagatjit-seemarani behera-biswajit-barsharani behera\n",
      "jagatjit+biswajit\n"
     ]
    }
   ],
   "source": [
    "# join()-->> this method convort any itterable (collection -data type) to string. the element most be string\n",
    "\n",
    "l_=['a','b','7']\n",
    "print('@'.join(l_))\n",
    "t_=(\"jagatjit\",'seemarani behera',\"biswajit\",\"barsharani behera\")\n",
    "print(\"-\".join(t_))\n",
    "d_={\"jagatjit\":'seemarani behera',\"biswajit\":\"barsharani behera\"}\n",
    "print(\"+\".join(d_))"
   ]
  },
  {
   "cell_type": "code",
   "execution_count": 2,
   "id": "47192243-574d-4ca6-a7ca-0922e2adb611",
   "metadata": {},
   "outputs": [
    {
     "name": "stdin",
     "output_type": "stream",
     "text": [
      "enter your first string: jagatjit\n",
      "enter your second string: behera\n"
     ]
    },
    {
     "name": "stdout",
     "output_type": "stream",
     "text": [
      "jagatjitbehera\n"
     ]
    },
    {
     "name": "stdin",
     "output_type": "stream",
     "text": [
      "enter your 3rd string: jagatjit\n"
     ]
    },
    {
     "name": "stdout",
     "output_type": "stream",
     "text": [
      "jagatjitjagatjitjagatjit\n"
     ]
    }
   ],
   "source": [
    "# operator in a string.\n",
    "s1_=input(\"enter your first string:\")\n",
    "s2_=input(\"enter your second string:\")\n",
    "print(s1_+s2_)\n",
    "s3_=input(\"enter your 3rd string:\")\n",
    "print(s3_*3)\n"
   ]
  },
  {
   "cell_type": "code",
   "execution_count": null,
   "id": "f62352f2-7909-46d9-88ef-27246d063387",
   "metadata": {},
   "outputs": [],
   "source": []
  }
 ],
 "metadata": {
  "kernelspec": {
   "display_name": "Python 3 (ipykernel)",
   "language": "python",
   "name": "python3"
  },
  "language_info": {
   "codemirror_mode": {
    "name": "ipython",
    "version": 3
   },
   "file_extension": ".py",
   "mimetype": "text/x-python",
   "name": "python",
   "nbconvert_exporter": "python",
   "pygments_lexer": "ipython3",
   "version": "3.12.4"
  }
 },
 "nbformat": 4,
 "nbformat_minor": 5
}
