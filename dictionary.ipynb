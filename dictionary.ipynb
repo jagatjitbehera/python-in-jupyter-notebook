{
 "cells": [
  {
   "cell_type": "code",
   "execution_count": 3,
   "id": "12b8d4a2-5de4-4112-940b-49687e1c8c0c",
   "metadata": {},
   "outputs": [],
   "source": [
    "                              #     DICTIONARY\n",
    "                            \n",
    "\n",
    "#1. it is the collection of key and value pair and each key value pair is called item.\n",
    "#2. each item is separated by cammoa and enclosed in {}.\n",
    "\n",
    "#3. KEY.-->>\n",
    "        # in dictionary key must be immutable and uinque.\n",
    "       # dictionary is order. if you take duplicated key in dictionary the value most be consider for the last key        \n",
    "#4. VALUE--->>>\n",
    "        # in dictionary value can be repitated  and value can be of any data type.\n",
    "\n",
    "# 5.syntax. varname={key:value1,........}\n",
    "# 6.the reprsentation of dictionary is dict\n",
    "# 7.constructor-- dict()\n",
    "#8.defult value --->>> {} \n",
    "#9.typecasting\n",
    "#10. dictionary is  mutable.\n",
    "\n"
   ]
  },
  {
   "cell_type": "code",
   "execution_count": 4,
   "id": "0fc7cc50-1aee-4b41-8430-cfc453d204ed",
   "metadata": {},
   "outputs": [
    {
     "name": "stdout",
     "output_type": "stream",
     "text": [
      "{'a': 45, (True,): [3, 4, 5], 67: 4.5, False: True, 'c': [4, 5, 6]}\n"
     ]
    }
   ],
   "source": [
    "# example.\n",
    "dict_={\"a\":[4,5,6],(True,):[3,4,5],67:4.5,False:True,\"a\":45,\"c\":[4,5,6]}\n",
    "print(dict_)"
   ]
  },
  {
   "cell_type": "code",
   "execution_count": 17,
   "id": "d4bd20b9-cf1b-46ab-ac3b-522d90e826ab",
   "metadata": {},
   "outputs": [
    {
     "name": "stdout",
     "output_type": "stream",
     "text": [
      "<class 'dict'>\n",
      "45\n"
     ]
    }
   ],
   "source": [
    "# data type.\n",
    "dict_={\"a\":[4,5,6],(True,):[3,4,5],67:4.5,False:True,\"a\":45,\"c\":[4,5,6]}\n",
    "print(type(dict_))\n",
    "print(dict_[\"a\"])"
   ]
  },
  {
   "cell_type": "code",
   "execution_count": 7,
   "id": "2198e985-d4d8-4d59-888c-890086242534",
   "metadata": {},
   "outputs": [
    {
     "name": "stdout",
     "output_type": "stream",
     "text": [
      "5\n"
     ]
    }
   ],
   "source": [
    "#length of the dictionary.\n",
    "dict_={\"a\":[4,5,6],(True,):[3,4,5],67:4.5,False:True,\"a\":45,\"c\":[4,5,6]}\n",
    "print(len(dict_))"
   ]
  },
  {
   "cell_type": "code",
   "execution_count": 9,
   "id": "e06a0149-dc32-44a0-932b-2e9ad68f7278",
   "metadata": {},
   "outputs": [
    {
     "name": "stdout",
     "output_type": "stream",
     "text": [
      "{}\n"
     ]
    }
   ],
   "source": [
    "# deafult value.\n",
    "print(dict())"
   ]
  },
  {
   "cell_type": "code",
   "execution_count": 10,
   "id": "2fd15d29-8de3-4400-b395-86730ec38d19",
   "metadata": {},
   "outputs": [],
   "source": [
    "                 # Typecasting in dictionary."
   ]
  },
  {
   "cell_type": "code",
   "execution_count": 11,
   "id": "021855a5-5b66-4531-a3ba-97e222630f5a",
   "metadata": {},
   "outputs": [
    {
     "name": "stdout",
     "output_type": "stream",
     "text": [
      "{'a': 1, 'b': 2.6, 'c': 45}\n"
     ]
    }
   ],
   "source": [
    "print(dict(a=1,b=2.6,c=45))"
   ]
  },
  {
   "cell_type": "code",
   "execution_count": 2,
   "id": "9e2d4ff5-543a-4c33-baec-4c29a161241f",
   "metadata": {},
   "outputs": [
    {
     "ename": "SyntaxError",
     "evalue": "incomplete input (1403015436.py, line 1)",
     "output_type": "error",
     "traceback": [
      "\u001b[1;36m  Cell \u001b[1;32mIn[2], line 1\u001b[1;36m\u001b[0m\n\u001b[1;33m    print(dict(([(34,\"int\",[3.4,[4,5]],[\"a\",\"b\"],{34,5})]))\u001b[0m\n\u001b[1;37m                                                           ^\u001b[0m\n\u001b[1;31mSyntaxError\u001b[0m\u001b[1;31m:\u001b[0m incomplete input\n"
     ]
    }
   ],
   "source": [
    "print(dict(([(34,\"int\",[3.4,[4,5]],[\"a\",\"b\"],{34,5})]))"
   ]
  },
  {
   "cell_type": "code",
   "execution_count": 15,
   "id": "8b513e7c-aece-4250-8c0a-5cc27c9dea54",
   "metadata": {},
   "outputs": [],
   "source": [
    "#\n"
   ]
  },
  {
   "cell_type": "code",
   "execution_count": null,
   "id": "c16ab475-c7d5-4e86-88b7-13c4ef530db6",
   "metadata": {},
   "outputs": [],
   "source": [
    "#"
   ]
  },
  {
   "cell_type": "code",
   "execution_count": 18,
   "id": "54d87c7a-51eb-4e75-a6eb-13e10b849018",
   "metadata": {},
   "outputs": [],
   "source": [
    "                                       # METHODS  in dictionary. \n",
    "\n",
    "#1.       to get key -value from dictionary\n",
    "\n",
    "# using 1. indexing-->> this method is used to get the value using key.\n",
    "                        #2. this method returns keyerror if the key is not found.\n",
    "\n",
    "#  2. get()-->> this method is used to get the value using the key.\n",
    "               # -->> this method returns non if the key is not found  "
   ]
  },
  {
   "cell_type": "code",
   "execution_count": 19,
   "id": "485fa851-2a9c-4e19-8bf1-b2dcff313130",
   "metadata": {},
   "outputs": [
    {
     "name": "stdout",
     "output_type": "stream",
     "text": [
      "45\n",
      "True\n",
      "{1, 2, 3, 4}\n",
      "{1, 2, 3, 4}\n"
     ]
    }
   ],
   "source": [
    "dict_={\"a\":[4,5,6],(True,0):[3,4,5],67:4.5,False:True,\"a\":45,\"c\":[4,5,6],(1,False):{1,2,3,4}}\n",
    "# to access the value using  indexing.\n",
    "print(dict_[\"a\"])\n",
    "print(dict_[0])\n",
    "#composite key.\n",
    "print(dict_[True,0])\n",
    "print(dict_[True,0])"
   ]
  },
  {
   "cell_type": "code",
   "execution_count": 20,
   "id": "4dc5b5e6-dbc3-404b-afca-63d12276df49",
   "metadata": {},
   "outputs": [
    {
     "name": "stdout",
     "output_type": "stream",
     "text": [
      "4.5\n",
      "non value\n"
     ]
    }
   ],
   "source": [
    "# using get().\n",
    "dict_={\"a\":[4,5,6],(True,):[3,4,5],67:4.5,False:True,\"a\":45,\"c\":[4,5,6]}\n",
    "print(dict_.get(67))\n",
    "print(dict_.get(1,\"non value\"))"
   ]
  },
  {
   "cell_type": "code",
   "execution_count": 4,
   "id": "a3e6314d-aa49-494d-afd1-0c1afbb38379",
   "metadata": {},
   "outputs": [
    {
     "name": "stdout",
     "output_type": "stream",
     "text": [
      "dict_keys(['a', 34, 3.4, (4, 5, 6)])\n"
     ]
    }
   ],
   "source": [
    "#3. keys(). -->> this method returns all the keys form the dictionary in the form of list.\n",
    "# syntax -->> variablename.keys()\n",
    "\n",
    "d_={\"a\":\"string\",34:\"int\",3.4:\"f\",(4,5,6):{True,False}}\n",
    "print(d_.keys())\n"
   ]
  },
  {
   "cell_type": "code",
   "execution_count": 1,
   "id": "84038fd3-86d7-4d00-8610-6e9f3b60899e",
   "metadata": {},
   "outputs": [
    {
     "name": "stdout",
     "output_type": "stream",
     "text": [
      "dict_values(['string', 'int', 'f', {False, True}])\n"
     ]
    }
   ],
   "source": [
    "# values(). -->> this method returns all the values in a dictionary in the form of list.\n",
    "# syntax -->> variablename.values()\n",
    "d_={\"a\":\"string\",34:\"int\",3.4:\"f\",(4,5,6):{True,False}}\n",
    "print(d_.values())\n",
    "\n"
   ]
  },
  {
   "cell_type": "code",
   "execution_count": 2,
   "id": "fa6fa6a3-e8c7-45b1-aa34-96544bf831ef",
   "metadata": {},
   "outputs": [
    {
     "name": "stdout",
     "output_type": "stream",
     "text": [
      "dict_items([('a', 'string'), (34, 'int'), (3.4, 'f'), ((4, 5, 6), {False, True})])\n"
     ]
    }
   ],
   "source": [
    "#5. items()-->> this method returns a list with tuple of key value pair.\n",
    "\n",
    "# syntax -->> variablename.items()\n",
    "\n",
    "d_={\"a\":\"string\",34:\"int\",3.4:\"f\",(4,5,6):{True,False}}\n",
    "print(d_.items())"
   ]
  },
  {
   "cell_type": "code",
   "execution_count": 8,
   "id": "fa886956-0c99-41da-8432-b51d464ae5e0",
   "metadata": {},
   "outputs": [],
   "source": [
    "\n",
    "                       # ADDING KEY-VALUE PAIR INTO A DICTIONARY."
   ]
  },
  {
   "cell_type": "code",
   "execution_count": 10,
   "id": "4f08788d-f4e2-4e5b-bdb7-028a0476d31c",
   "metadata": {},
   "outputs": [
    {
     "name": "stdout",
     "output_type": "stream",
     "text": [
      "{'a': 'string', 34: 'int', 3.4: 'f', (4, 5, 6): {False, True}, True: False}\n",
      "{'a': 'string', 34: 'int', 3.4: 'f', (4, 5, 6): {False, True}, True: False, (90, 4): 'tuple'}\n"
     ]
    }
   ],
   "source": [
    "#1.indexing() --> this methods adds a key value pair into dictionary in the last position of the dictionary.\n",
    "# syntax -->> dictname[key] = value\n",
    "d_={\"a\":\"string\",34:\"int\",3.4:\"f\",(4,5,6):{True,False}}\n",
    "d_[True]= False\n",
    "print(d_)\n",
    "d_[(90,4)] = \"tuple\"\n",
    "print(d_)"
   ]
  },
  {
   "cell_type": "code",
   "execution_count": 11,
   "id": "e38cfb8e-98df-46d8-bbc2-5fbd160ea288",
   "metadata": {},
   "outputs": [
    {
     "name": "stdout",
     "output_type": "stream",
     "text": [
      "{'a': 'string', 34: 'int', 3.4: 'f', (4, 5, 6): {False, True}, 90: 3.4, (4+4j): (4-34j), 'abc': 'alpha'}\n"
     ]
    }
   ],
   "source": [
    "#2. update() -->> this method is used to add multipule key-value  pair into in dictionary.\n",
    "# syntax -->> dictname.update(itterable /collection data type)\n",
    "d_={\"a\":\"string\",34:\"int\",3.4:\"f\",(4,5,6):{True,False}}\n",
    "d_.update({90:3.4,4+4j:4-34j,\"abc\":\"alpha\"})\n",
    "print(d_)"
   ]
  },
  {
   "cell_type": "code",
   "execution_count": 12,
   "id": "376c1cef-f341-4746-95dc-a3f0b426a5fc",
   "metadata": {},
   "outputs": [],
   "source": [
    "                    ## REMOVING KEY-VALUE PAIR  IN THE DICTIONARY ##"
   ]
  },
  {
   "cell_type": "code",
   "execution_count": 17,
   "id": "5782a504-169c-4df7-9986-6749d7eb31c7",
   "metadata": {},
   "outputs": [
    {
     "name": "stdout",
     "output_type": "stream",
     "text": [
      "{}\n"
     ]
    }
   ],
   "source": [
    "#1. POPITEM()-->> THIS METHOD RETURNS THE ITEM FORM THE END OF THE DICTIONARY.\n",
    "# SYNTAX -->> DICTIONARYNAME.POPITEM()\n",
    "d_ = {'a': 'string', 34: 'int', 3.4: 'f', (4, 5, 6): {False, True}, 90: 3.4, (4+4j): (4-34j), 'abc': 'alpha'}\n",
    "d_.popitem()\n",
    "d_.popitem\n",
    "d_.popitem()\n",
    "d_.popitem()\n",
    "d_.popitem()\n",
    "d_.popitem()\n",
    "d_.popitem()\n",
    "d_.popitem()\n",
    "print(d_)\n"
   ]
  },
  {
   "cell_type": "code",
   "execution_count": 19,
   "id": "69e22c32-6a96-4446-bcc6-ad1b268575e6",
   "metadata": {},
   "outputs": [
    {
     "name": "stdout",
     "output_type": "stream",
     "text": [
      "{'a': 'string', 34: 'int', (4, 5, 6): {False, True}, 90: 3.4, (4+4j): (4-34j), 'abc': 'alpha'}\n"
     ]
    }
   ],
   "source": [
    "#2. pop() -->> this method remove the specifing key value pair form a dictionary.\n",
    "# we should pass the key into te parameter. at a time it takes one key .\n",
    "d_ = {'a': 'string', 34: 'int', 3.4: 'f', (4, 5, 6): {False, True}, 90: 3.4, (4+4j): (4-34j), 'abc': 'alpha'}\n",
    "d_.pop(3.4)\n",
    "print(d_)"
   ]
  },
  {
   "cell_type": "code",
   "execution_count": 24,
   "id": "3f8fa3ea-2fe2-448b-a180-eed4910f149d",
   "metadata": {},
   "outputs": [
    {
     "name": "stdout",
     "output_type": "stream",
     "text": [
      "{'s': None, 't': None, 'r': None, 'i': None, 'n': None, 'g': None}\n",
      "{'s': 'string', 't': 'string', 'r': 'string', 'i': 'string', 'n': 'string', 'g': 'string'}\n"
     ]
    }
   ],
   "source": [
    "# fromkeys() -->> thnis method retuns a dictionary with specifies key and values .\n",
    "# it makes in purpose convort any iterable in to dictionary.\n",
    "# syntax -->> dict.fromkeys(iterable) where  dict is class or module.\n",
    "\n",
    "string_=\"string\"\n",
    "print(dict.fromkeys(string_))\n",
    "print(dict.fromkeys(string_,\"string\"))"
   ]
  },
  {
   "cell_type": "code",
   "execution_count": 25,
   "id": "7ca59e2b-dc90-4d9e-aaec-7ea849e51aed",
   "metadata": {},
   "outputs": [],
   "source": [
    "                                # operators in dictionary."
   ]
  },
  {
   "cell_type": "code",
   "execution_count": 32,
   "id": "2378df1e-9320-4e7c-a258-dfb995f3834c",
   "metadata": {},
   "outputs": [
    {
     "name": "stdout",
     "output_type": "stream",
     "text": [
      "{34, 3.4, 'abc', 'a', (4+4j), (4, 5, 6), 90}\n"
     ]
    }
   ],
   "source": [
    "# * -->> this is used to combine the keys.\n",
    "d_1={\"a\":\"string\",34:\"int\",3.4:\"f\",(4,5,6):{True,False}}\n",
    "d_2 = {'a': 'string', 34: 'int', 3.4: 'f', (4, 5, 6): {False, True}, 90: 3.4, (4+4j): (4-34j), 'abc': 'alpha'}\n",
    "print({*d_1,*d_2})"
   ]
  },
  {
   "cell_type": "code",
   "execution_count": 2,
   "id": "2ffe47d0-9d25-4197-a4d1-67ee65562a70",
   "metadata": {},
   "outputs": [
    {
     "name": "stdout",
     "output_type": "stream",
     "text": [
      "{'a': 'string', 34: 'int', 3.4: 'f', (4, 5, 6): {False, True}, 90: 3.4, (4+4j): (4-34j), 'abc': 'alpha'}\n",
      "{'a': 'string', 34: 'int', 3.4: 'f', (4, 5, 6): {False, True}, 90: 3.4, (4+4j): (4-34j), 'abc': 'alpha'}\n",
      "{'a': 'string', 34: 'int', 3.4: 'f', (4, 5, 6): {False, True}}\n"
     ]
    }
   ],
   "source": [
    "# ** -->> this operator used for combine keys and values.\n",
    "# | -->> this operator used for combine keys and values.\n",
    "d_1={\"a\":\"string\",34:\"int\",3.4:\"f\",(4,5,6):{True,False}}\n",
    "d_2 = {'a': 'string', 34: 'int', 3.4: 'f', (4, 5, 6): {False, True}, 90: 3.4, (4+4j): (4-34j), 'abc': 'alpha'}\n",
    "print({**d_1,**d_2})\n",
    "print(d_1 | d_2)\n",
    "print(d_1)"
   ]
  },
  {
   "cell_type": "code",
   "execution_count": 37,
   "id": "f5815683-d38e-4dd5-b8ef-e31b8b812b3c",
   "metadata": {},
   "outputs": [],
   "source": [
    "                                         # ACTIVITY IN DICTIONARY.#"
   ]
  },
  {
   "cell_type": "code",
   "execution_count": 41,
   "id": "97c02f38-5cde-4050-8a1d-cdd5864c5034",
   "metadata": {},
   "outputs": [
    {
     "name": "stdout",
     "output_type": "stream",
     "text": [
      "{'a': 1, 'b': 3, 'c': 4}\n"
     ]
    }
   ],
   "source": [
    "p_ = {\"a\":1,\"b\":2,\"c\":4}\n",
    "p_[\"b\"]=p_[\"b\"]+1\n",
    "print(p_)"
   ]
  },
  {
   "cell_type": "code",
   "execution_count": 44,
   "id": "8891435f-d45b-4fec-af86-e41a9d756695",
   "metadata": {},
   "outputs": [
    {
     "name": "stdout",
     "output_type": "stream",
     "text": [
      "{'a': 'string', 34: 'int', 3.4: 'f', (4, 5, 6): {False, True}, 90: 3.4, (4+4j): (4-34j)}\n",
      "{34: 'int', 3.4: 'f', (4, 5, 6): {False, True}, 90: 3.4, (4+4j): (4-34j), 'abc': 'alpha'}\n"
     ]
    }
   ],
   "source": [
    "# DIFFERENCE BETWEEN POP AND POPITEM\n",
    "# popitem() -->> in this method remove the key-value pair at the end of the dictionary.\n",
    "d_ = {'a': 'string', 34: 'int', 3.4: 'f', (4, 5, 6): {False, True}, 90: 3.4, (4+4j): (4-34j), 'abc': 'alpha'}\n",
    "d_.popitem()\n",
    "print(d_)\n",
    "#pop() ->> this method is used to remove the particular key-value pair in the dictionary.\n",
    "d_ = {'a': 'string', 34: 'int', 3.4: 'f', (4, 5, 6): {False, True}, 90: 3.4, (4+4j): (4-34j), 'abc': 'alpha'}\n",
    "d_.pop(\"a\")\n",
    "print(d_)"
   ]
  },
  {
   "cell_type": "code",
   "execution_count": 7,
   "id": "c9934445-4c83-4675-a18c-3a06d04c6ff6",
   "metadata": {},
   "outputs": [
    {
     "name": "stdout",
     "output_type": "stream",
     "text": [
      "{'a': 'string', 34: 'int', 3.4: 'f', (4, 5, 6): {False, True}, 'b': 'jagatjit', 'c': 56, 'd': True}\n"
     ]
    }
   ],
   "source": [
    "# marge two dictionary.?\n",
    "# in marge two dictionary we should  use update method. in this method we should add the multipule key-value pait into  the dictionary.\n",
    "\n",
    "d_1={\"a\":\"string\",34:\"int\",3.4:\"f\",(4,5,6):{True,False}}\n",
    "d_2 = {\"b\":\"jagatjit\",\"c\":56,\"d\":True}\n",
    "d_1.update(d_2)\n",
    "print(d_1)"
   ]
  },
  {
   "cell_type": "code",
   "execution_count": 10,
   "id": "62bc7910-e13b-45c2-b726-397038ce0bf6",
   "metadata": {},
   "outputs": [
    {
     "name": "stdout",
     "output_type": "stream",
     "text": [
      "{'string': 0, 3.4: 0, 98: 0, 'boolean': 0}\n",
      "('string', 3.4, 98, 'boolean')\n"
     ]
    }
   ],
   "source": [
    "# create a dictionary 0 as value pair of all the dictionary.\n",
    "dict_1=(\"string\",3.4,98,\"boolean\")\n",
    "print(dict.fromkeys(dict_1,0))\n"
   ]
  },
  {
   "cell_type": "code",
   "execution_count": null,
   "id": "f3ad95e9-9457-442d-b68e-13855a0c6e00",
   "metadata": {},
   "outputs": [],
   "source": []
  }
 ],
 "metadata": {
  "kernelspec": {
   "display_name": "Python 3 (ipykernel)",
   "language": "python",
   "name": "python3"
  },
  "language_info": {
   "codemirror_mode": {
    "name": "ipython",
    "version": 3
   },
   "file_extension": ".py",
   "mimetype": "text/x-python",
   "name": "python",
   "nbconvert_exporter": "python",
   "pygments_lexer": "ipython3",
   "version": "3.12.4"
  }
 },
 "nbformat": 4,
 "nbformat_minor": 5
}
