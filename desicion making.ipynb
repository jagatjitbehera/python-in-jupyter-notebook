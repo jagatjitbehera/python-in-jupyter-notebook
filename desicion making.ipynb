{
 "cells": [
  {
   "cell_type": "code",
   "execution_count": 8,
   "id": "f0b82d51-6df2-4165-98b1-fe5f6091f081",
   "metadata": {},
   "outputs": [
    {
     "name": "stdin",
     "output_type": "stream",
     "text": [
      "Enter Your String: rat\n"
     ]
    },
    {
     "name": "stdout",
     "output_type": "stream",
     "text": [
      "the string  rat  is not a palydrom\n"
     ]
    }
   ],
   "source": [
    "# write a pograme to cheack wheather the string is palyndrom or not.\n",
    "\n",
    "string_ = input(\"Enter Your String:\")\n",
    "reverse_ = string_[::-1]\n",
    "if string_ == reverse_:\n",
    "    print(\"The given string:\" ,string_ , \" is a palnydrom\")\n",
    "else:\n",
    "    print(\"the string \", string_,\" is not a palyndrom\")"
   ]
  },
  {
   "cell_type": "code",
   "execution_count": 7,
   "id": "16aa56a9-96ef-4bef-94e4-d2a93203da62",
   "metadata": {},
   "outputs": [
    {
     "name": "stdin",
     "output_type": "stream",
     "text": [
      "Enter Your Number: 8768755\n"
     ]
    },
    {
     "name": "stdout",
     "output_type": "stream",
     "text": [
      "THE given number  8768755   is not a palydrom\n"
     ]
    }
   ],
   "source": [
    "# WRAP TO CHEACK THE GIVEN NUMBER IS PALYNDROM OR NOT.\n",
    "\n",
    "num_ = int(input(\"Enter Your Number:\"))\n",
    "strnum_ = str(num_)\n",
    "strreverse_ = strnum_[::-1]\n",
    "intnum_ = int(strnum_) \n",
    "intreverse_ = int(strreverse_)\n",
    "if intnum_ == intreverse_:\n",
    "    print(\"The given number \",num_,\"  is  palyndrom\")\n",
    "else:\n",
    "    print(\"THE given number \",num_ , \"  is not a palyndrom\")\n",
    "    \n",
    "\n"
   ]
  },
  {
   "cell_type": "code",
   "execution_count": 13,
   "id": "2baabff4-df97-4ed3-bb28-4fc5ba95ac56",
   "metadata": {},
   "outputs": [
    {
     "name": "stdin",
     "output_type": "stream",
     "text": [
      "enter your year: 2005\n"
     ]
    },
    {
     "name": "stdout",
     "output_type": "stream",
     "text": [
      "the given year 2005  is not a leap year\n"
     ]
    }
   ],
   "source": [
    "# WRP TO CHEACK WHEATHER THE GIVEN YEAR IS LEAP YEAR OR  not.\n",
    "\n",
    "year_ = int(input(\"enter your year:\"))\n",
    "if year_ % 4 == 0:\n",
    "    print(\"the given year\",year_, \" is a leap year\")\n",
    "else:\n",
    "    print(\"the given year\",year_, \" is not a leap year\")\n"
   ]
  },
  {
   "cell_type": "code",
   "execution_count": 13,
   "id": "8c7d7e2d-135e-4cf8-8f4e-c2fb2e8ab675",
   "metadata": {},
   "outputs": [
    {
     "name": "stdin",
     "output_type": "stream",
     "text": [
      "enter the number: 25\n"
     ]
    },
    {
     "name": "stdout",
     "output_type": "stream",
     "text": [
      "it is a perfect square\n"
     ]
    }
   ],
   "source": [
    "# CHEACK WHEATHER THE NUMBER IS PERFECT SQUARE OR NOT.\n",
    "\n",
    "number_= int(input(\"enter the number:\"))\n",
    "square_ = number_ ** 0.5\n",
    "if square_ * square_ == number_:\n",
    "    print(\"The given number \",number_, \"is a perfect square number\")"
   ]
  },
  {
   "cell_type": "code",
   "execution_count": 17,
   "id": "4fb2aa0b-3b72-4185-996f-56328b7647cb",
   "metadata": {},
   "outputs": [
    {
     "name": "stdin",
     "output_type": "stream",
     "text": [
      "Enter a charecter: j\n"
     ]
    },
    {
     "name": "stdout",
     "output_type": "stream",
     "text": [
      "The given charecter is alphabate.\n"
     ]
    },
    {
     "name": "stdin",
     "output_type": "stream",
     "text": [
      "Enter a charecter: jagatjitseemarani\n"
     ]
    },
    {
     "name": "stdout",
     "output_type": "stream",
     "text": [
      "Alphabate\n"
     ]
    }
   ],
   "source": [
    "# CHAECK IF THE GIVEN CHARECTER IS ALPHABATE NUMBER OR SPECIAL CHARECTER / pass only one charecter.\n",
    "char_ = input(\"Enter a charecter:\")\n",
    "if len(char_) == 1 and char_.isalpha():\n",
    "    print(\"The given charecter is alphabate.\")\n",
    "elif len(char_) == 1 and char_.isnumeric():\n",
    "    print(\"The given charecter is only number\")\n",
    "elif len(char_) == 1 and char_.isalnum():\n",
    "    print(\"The given charecter is alpha numeric\")\n",
    "elif len(char_) == 1 and  not char_.isalnum():\n",
    "    print(\"THE given charecter is special symbol\")\n",
    "else:\n",
    "    print(\"Give the one sinle charecter\")\n",
    "    \n",
    "\n",
    "# CHAECK IF THE GIVEN CHARECTER IS ALPHABATE NUMBER OR SPECIAL CHARECTER  pass multipul char.\n",
    "char_ = input(\"Enter a charecter:\")\n",
    "if char_.isalpha():\n",
    "    print(\"Alphabate\")\n",
    "elif char_.isnumeric():\n",
    "    print(\"Number\")\n",
    "elif char_.isalnumeric():\n",
    "    print(\"Alphanumeric\")\n",
    "else:\n",
    "    print(\"speical symbol\")"
   ]
  },
  {
   "cell_type": "code",
   "execution_count": 19,
   "id": "9e02babb-75af-4bb8-a865-5a3825b8fde2",
   "metadata": {},
   "outputs": [
    {
     "name": "stdin",
     "output_type": "stream",
     "text": [
      "enter the mark: 45\n"
     ]
    },
    {
     "name": "stdout",
     "output_type": "stream",
     "text": [
      "pass\n"
     ]
    }
   ],
   "source": [
    "# PRINT (PASS) IF MARK IS GRATER TAHN 35 ELSE FAIL AND MARK IS GRATET THAN 60 PRINT FIRST CLASS.\n",
    "marks_ = int(input(\"enter the mark:\"))\n",
    "if marks_ >= 60 :\n",
    "    print(\"first class\")\n",
    "elif marks_ < 60 and marks_ >=35:\n",
    "    print(\"pass\")\n",
    "else:\n",
    "    print(\"fail\")\n"
   ]
  },
  {
   "cell_type": "code",
   "execution_count": 22,
   "id": "47212d38-2058-4f31-bad6-a5d57649e259",
   "metadata": {},
   "outputs": [
    {
     "name": "stdin",
     "output_type": "stream",
     "text": [
      "enter the string_ hgbchbvjn\n"
     ]
    },
    {
     "name": "stdout",
     "output_type": "stream",
     "text": [
      "The given string first charecter not vowel\n"
     ]
    }
   ],
   "source": [
    "# CHAECK THE STARTING CHARECTER OF A STRING IS VOWEL OR NOT.\n",
    "string_ = input(\"enter the string_\")\n",
    "index_ = string_[0]\n",
    "if index_ in \"aeiouAEIOU\":\n",
    "    print(\"The given strings First charecter vowel\")\n",
    "else:\n",
    "    print(\"The given string first charecter not vowel\")\n",
    "\n"
   ]
  },
  {
   "cell_type": "code",
   "execution_count": 13,
   "id": "31cb0ff9-3fe0-4eb3-b0ed-6568288a203d",
   "metadata": {},
   "outputs": [
    {
     "name": "stdin",
     "output_type": "stream",
     "text": [
      "Enter the elements separated by spaces:  1 2 3 4 5 6\n"
     ]
    },
    {
     "name": "stdout",
     "output_type": "stream",
     "text": [
      "Length of the list is even.\n"
     ]
    }
   ],
   "source": [
    "# Input list\n",
    "list_ = input(\"Enter the elements separated by spaces: \").split()\n",
    "\n",
    "# Check the length of the list\n",
    "if len(list_) % 2 == 0:\n",
    "    print(\"Length of the list is even.\")\n",
    "else:\n",
    "    print(\"The length of the list is odd.\")\n"
   ]
  },
  {
   "cell_type": "code",
   "execution_count": 1,
   "id": "4ef9742a-032c-437f-8044-e2818cec9916",
   "metadata": {},
   "outputs": [],
   "source": [
    "# chaek the number of keys in the dictionary if the number is even print as it is other wise add a new key to ,make it even and print it.\n",
    "#important.\n",
    "\n",
    "d={}\n",
    "dict_= d.update()"
   ]
  },
  {
   "cell_type": "code",
   "execution_count": 2,
   "id": "b00d3b79-7d0c-49f9-91e9-5cc652a9ac78",
   "metadata": {},
   "outputs": [
    {
     "name": "stdin",
     "output_type": "stream",
     "text": [
      "enter the 1st number: 78\n",
      "enter the 2nd number: 67\n",
      "enter the 3rd number: 56\n"
     ]
    },
    {
     "name": "stdout",
     "output_type": "stream",
     "text": [
      "78 is greater.\n"
     ]
    }
   ],
   "source": [
    "                # TO chaeck the which is greater number given 3 numbers. the number should be user input.\n",
    "\n",
    "n1 = int(input(\"enter the 1st number:\" ))\n",
    "n2 = int(input(\"enter the 2nd number:\" ))\n",
    "n3 = int(input(\"enter the 3rd number:\" ))\n",
    "if n1 >= n2 and n1 >= n3:\n",
    "    print(n1, \"is greater.\")\n",
    "elif n2 >= n3 and n2 >= n1:\n",
    "    print(n2, \"is greater\")\n",
    "else:\n",
    "    print(n3,\"is greater\")\n"
   ]
  },
  {
   "cell_type": "code",
   "execution_count": 10,
   "id": "de91d701-2843-4db5-87ed-4e1710f098f2",
   "metadata": {},
   "outputs": [
    {
     "name": "stdin",
     "output_type": "stream",
     "text": [
      "Enter your number: 78\n"
     ]
    },
    {
     "name": "stdout",
     "output_type": "stream",
     "text": [
      "78 it's first number 8 is even number.\n"
     ]
    }
   ],
   "source": [
    "#1. if a number to cheack the first number is even or odd.?\n",
    "\n",
    "number_ = int(input(\"Enter your number:\"))\n",
    "strnumber = str(number_)\n",
    "index_number = strnumber[0]\n",
    "if int(index_number) % 2 == 0:\n",
    "    print( number_,\"it's first number\",index_number, \"is even number.\")\n",
    "else :\n",
    "    print( number_,\"it's first number\",index_number, \"is odd number.\")\n",
    "    \n",
    "\n"
   ]
  },
  {
   "cell_type": "code",
   "execution_count": 13,
   "id": "ff195d73-8682-4063-bd65-98df75647eac",
   "metadata": {},
   "outputs": [
    {
     "name": "stdin",
     "output_type": "stream",
     "text": [
      "enter a number: 56789065\n"
     ]
    },
    {
     "name": "stdout",
     "output_type": "stream",
     "text": [
      "56789065 The second last number 6 is even number\n"
     ]
    }
   ],
   "source": [
    "# 2.In a number check if the second last number is even or odd ?\n",
    "number_ = int(input(\"enter a number:\"))\n",
    "strnumber = str(number_)\n",
    "index_number = int(strnumber[-2])\n",
    "if index_number % 2 == 0:\n",
    "    print(number_,\"The second last number\" ,index_number, \"is even number\")\n",
    "else:\n",
    "    print(number_,\"The second last number\" ,index_number, \"is odd number\")\n"
   ]
  },
  {
   "cell_type": "code",
   "execution_count": 19,
   "id": "5b4cae51-3c16-4ef4-b73b-e67d46cc1854",
   "metadata": {},
   "outputs": [
    {
     "name": "stdin",
     "output_type": "stream",
     "text": [
      "enter the data type: hhgh\n"
     ]
    },
    {
     "name": "stdout",
     "output_type": "stream",
     "text": [
      "hhgh : the given datatype is  string datatype\n"
     ]
    }
   ],
   "source": [
    "# 3.Program to check if the given datatype is of string datatype. ?\n",
    "\n",
    "str_ = input(\"enter the data :\")\n",
    "if type(str_) == str:\n",
    "    print(str_, \": the given datatype is  string datatype .\")\n",
    "else:\n",
    "    print(str_,\": the given datatype is not  a string datatype .\")"
   ]
  },
  {
   "cell_type": "code",
   "execution_count": 37,
   "id": "c6fb53f9-c9f2-4e47-aa31-b8181f1ccf81",
   "metadata": {},
   "outputs": [
    {
     "name": "stdin",
     "output_type": "stream",
     "text": [
      "Enter the data: 89\n"
     ]
    },
    {
     "name": "stdout",
     "output_type": "stream",
     "text": [
      "The given data type is not float data type. please enter the correct data \n"
     ]
    }
   ],
   "source": [
    "#4. program to check a data is float datatype or not.?\n",
    "number_ = input(\"Enter the data:\")\n",
    "typecon_number = float(number_)\n",
    "if typecon_number == number_:\n",
    "    print(\"the given data is float datatype.\")\n",
    "else:\n",
    "    print(\"The given data type is not float data type. please enter the correct data \")\n",
    "\n"
   ]
  },
  {
   "cell_type": "code",
   "execution_count": null,
   "id": "4a9e2015-5ae1-497b-9f35-1dc4b59f2dfc",
   "metadata": {},
   "outputs": [],
   "source": [
    "# 5. program to check list is empty or not\n",
    "\n",
    "list_= input(\"enter a  data (the data should be separated by space )\").split()\n",
    "\n",
    "if not list_:\n",
    "    print(\"the list is empty.\")\n",
    "elif list_ == :\n",
    "    print()\n",
    "\n",
    "else:\n",
    "    print(\"the list not empty it contains some element\",list_)"
   ]
  },
  {
   "cell_type": "code",
   "execution_count": 4,
   "id": "2f9fc3f1-f34b-492a-b431-aa85e0431f9b",
   "metadata": {},
   "outputs": [
    {
     "name": "stdin",
     "output_type": "stream",
     "text": [
      "Enter a string:  jhhgfgftfyghvb\n"
     ]
    },
    {
     "name": "stdout",
     "output_type": "stream",
     "text": [
      "The length of the string is: 14\n"
     ]
    }
   ],
   "source": [
    "# 6.program to return the length of string if characters are present.?\n",
    "data = input(\"Enter a string: \")\n",
    "\n",
    "# Check if the string contains characters after stripping whitespace\n",
    "if data.strip():\n",
    "    length = len(data)\n",
    "    print(f\"The length of the string is: {length}\")\n",
    "else:\n",
    "    print(\"The string is empty or contains only whitespace.\")\n"
   ]
  },
  {
   "cell_type": "code",
   "execution_count": 6,
   "id": "7ce8859e-a18a-45bb-be9e-7ab92ff4a0ec",
   "metadata": {},
   "outputs": [
    {
     "name": "stdin",
     "output_type": "stream",
     "text": [
      "Enter a list: dhhcyh\n"
     ]
    },
    {
     "name": "stdout",
     "output_type": "stream",
     "text": [
      "The last element of the list is h\n"
     ]
    }
   ],
   "source": [
    "# program to get the last element in list ?\n",
    "list_ = list(input(\"Enter a list:\"))\n",
    "last_element = list_[-1]\n",
    "print(     f\"The last element of the list is: {last_element}\")"
   ]
  },
  {
   "cell_type": "code",
   "execution_count": 9,
   "id": "4091e23e-0698-46cf-b658-3db794a11028",
   "metadata": {},
   "outputs": [
    {
     "name": "stdin",
     "output_type": "stream",
     "text": [
      "Enter a string: jagatjit behera\n"
     ]
    },
    {
     "name": "stdout",
     "output_type": "stream",
     "text": [
      "The middle charecter of the string is : t \n"
     ]
    }
   ],
   "source": [
    "# program to get the middle char in string. ?\n",
    "\n",
    "str_ = input(\"Enter a string:\")\n",
    "middle_ = str_[len(str_)//2]\n",
    "print(F\"The middle charecter of the string is : {middle_} \")"
   ]
  },
  {
   "cell_type": "code",
   "execution_count": 9,
   "id": "1f339648-7b53-4eae-8487-eecab2c9b105",
   "metadata": {},
   "outputs": [
    {
     "ename": "SyntaxError",
     "evalue": "invalid syntax (973579426.py, line 5)",
     "output_type": "error",
     "traceback": [
      "\u001b[1;36m  Cell \u001b[1;32mIn[9], line 5\u001b[1;36m\u001b[0m\n\u001b[1;33m    elif data_ !== data_.isalnum():\u001b[0m\n\u001b[1;37m                 ^\u001b[0m\n\u001b[1;31mSyntaxError\u001b[0m\u001b[1;31m:\u001b[0m invalid syntax\n"
     ]
    }
   ],
   "source": [
    "# program to check the data is number or special character .?\n",
    "data_ = input(\"Enter the data:\")\n",
    "if data_ == data_.isnumeric():\n",
    "    print(f\"The given {data_} is a number\" )\n",
    "\n",
    "\n",
    "\n",
    "\n",
    "\n"
   ]
  },
  {
   "cell_type": "code",
   "execution_count": 12,
   "id": "53acc48a-b817-4e07-9ad1-bb686cee37c2",
   "metadata": {},
   "outputs": [
    {
     "name": "stdin",
     "output_type": "stream",
     "text": [
      "Enter the number: -8363\n"
     ]
    },
    {
     "name": "stdout",
     "output_type": "stream",
     "text": [
      "The number -8363 is a negative integer.\n"
     ]
    }
   ],
   "source": [
    "# 10. program to check the integer is positive or negative ?\n",
    "number_ = int(input(\"Enter the number:\"))\n",
    "if number_ ==  0:\n",
    "    print(f\"The number {number_}  not a positive and not a negative integer\")\n",
    "    \n",
    "elif number_ > 0:\n",
    "    print(f\"The number {number_} is a posetive integer.\")\n",
    "else:\n",
    "    print(f\"The number {number_} is a negative integer.\")\n",
    "    "
   ]
  },
  {
   "cell_type": "code",
   "execution_count": 14,
   "id": "3e8c3d56-4d19-4c13-a3c8-88c6329e6b20",
   "metadata": {},
   "outputs": [
    {
     "name": "stdin",
     "output_type": "stream",
     "text": [
      "Enter the 1st number: 8767\n",
      "Enter the 2nd number: 78\n",
      "Enter the 3rd number: 78\n"
     ]
    },
    {
     "name": "stdout",
     "output_type": "stream",
     "text": [
      "The second number n2 78 is smallest.\n"
     ]
    }
   ],
   "source": [
    "# 11.program to check smallest number in user input . ?\n",
    "\n",
    "n1 = int(input(\"Enter the 1st number:\"))\n",
    "n2 = int(input(\"Enter the 2nd number:\"))\n",
    "n3 = int(input(\"Enter the 3rd number:\"))\n",
    "if n1 <= n2 and n1 <= n3:\n",
    "    print(f\"the first number n1 {n1} is smallest.\")\n",
    "elif n2 <= n3 and n2 <= n1 :\n",
    "    print(f\"The second number n2 {n2} is smallest.\")\n",
    "else:\n",
    "    print(f\"The number n3 {n3} is smallest.\")"
   ]
  },
  {
   "cell_type": "code",
   "execution_count": 19,
   "id": "d5d6b044-af4c-48e1-8830-7c2667a593a2",
   "metadata": {},
   "outputs": [
    {
     "name": "stdin",
     "output_type": "stream",
     "text": [
      "Enter the number: 86\n"
     ]
    },
    {
     "name": "stdout",
     "output_type": "stream",
     "text": [
      "it can not devisble by 5 0r 8 and also both\n"
     ]
    }
   ],
   "source": [
    "# 12 . program to check the number didvisible by 5 or 8 and both. ?\n",
    "number_ = int(input(\"Enter the number:\"))\n",
    "if number_ % 5 == 0 :\n",
    "    print(f\" The nukmber {number_} is divisible by 5\")\n",
    "elif number_ % 8 == 0 :   \n",
    "    print(f\"the number {number_ } is divisible by 8.\")\n",
    "elif number_ % 5 == 0 and number_ % 8 == 0:\n",
    "    print(f\"the number {number_ } is divisible by both 5 and 8 .\")\n",
    "else:\n",
    "    print(\"it can not devisble by 5 0r 8 and also both\")"
   ]
  },
  {
   "cell_type": "code",
   "execution_count": 21,
   "id": "f67209ee-c6e2-411b-aa5f-b22d5a396a2c",
   "metadata": {},
   "outputs": [
    {
     "ename": "NameError",
     "evalue": "name 'i' is not defined",
     "output_type": "error",
     "traceback": [
      "\u001b[1;31m---------------------------------------------------------------------------\u001b[0m",
      "\u001b[1;31mNameError\u001b[0m                                 Traceback (most recent call last)",
      "Cell \u001b[1;32mIn[21], line 4\u001b[0m\n\u001b[0;32m      1\u001b[0m \u001b[38;5;66;03m# 13. program to check the number is prime or not .?\u001b[39;00m\n\u001b[0;32m      2\u001b[0m \n\u001b[0;32m      3\u001b[0m \u001b[38;5;66;03m#number_ = int(input(\"Enter the number:\"))\u001b[39;00m\n\u001b[1;32m----> 4\u001b[0m \u001b[43mi\u001b[49m\u001b[38;5;66;03m#f number_ % 1 == 0 and number_ % number_ == 0:\u001b[39;00m\n",
      "\u001b[1;31mNameError\u001b[0m: name 'i' is not defined"
     ]
    }
   ],
   "source": [
    "# 13. program to check the number is prime or not .?\n",
    "\n",
    "#number_ = int(input(\"Enter the number:\"))\n",
    "#f number_ % 1 == 0 and number_ % number_ == 0:"
   ]
  },
  {
   "cell_type": "code",
   "execution_count": 22,
   "id": "d35054cc-4945-4910-aa9d-72da6933a857",
   "metadata": {},
   "outputs": [
    {
     "name": "stdin",
     "output_type": "stream",
     "text": [
      "Enter the length: 7889\n",
      "Enter the breath: 9\n"
     ]
    },
    {
     "name": "stdout",
     "output_type": "stream",
     "text": [
      "its not a square.\n"
     ]
    }
   ],
   "source": [
    "#14. take th user input length and breadth of rectangle is equal print square or not .?\n",
    "length_ = float(input(\"Enter the length:\"))\n",
    "breath_ = float(input(\"Enter the breath:\"))\n",
    "if length_ == breath_:\n",
    "    print(\"It is a square.\")\n",
    "else:\n",
    "    print(\"its not a square.\")"
   ]
  },
  {
   "cell_type": "code",
   "execution_count": 23,
   "id": "f511b422-dbd2-4b23-8837-1cf1342b2804",
   "metadata": {},
   "outputs": [
    {
     "name": "stdin",
     "output_type": "stream",
     "text": [
      "Enter your marks: 78\n"
     ]
    },
    {
     "name": "stdout",
     "output_type": "stream",
     "text": [
      "E\n"
     ]
    }
   ],
   "source": [
    "# A school has following rules for getting system\n",
    "#a.below 25 - F\n",
    "#b.25 to 45 - E\n",
    "#c.45 to 50 - D\n",
    "#d.50 to 60 - C\n",
    "#e.60 to 80 - B\n",
    "#f.80 to above - A \n",
    "#ask the user to enter marks and print the corresponding grade\"\"\"\n",
    "\n",
    "marks_ = int(input(\"Enter your marks:\"))\n",
    "if marks_ < 25:\n",
    "    print(\"F\")\n",
    "elif marks_ >=25 and marks_ <45:\n",
    "    print(\"E\")\n",
    "    \n",
    "elif marks_ >=45 and marks_ <50 : \n",
    "    print(\"D\")\n",
    "\n",
    "elif marks_ >=50  and marks_ < 60:\n",
    "    print(\"C\")\n",
    "elif marks_ >= 60 and marks_ <=80:\n",
    "    print(\"B\")\n",
    "else:\n",
    "    print(\"A\")\n"
   ]
  },
  {
   "cell_type": "code",
   "execution_count": null,
   "id": "611fd4ec-45f6-465c-9c01-501303f3c028",
   "metadata": {},
   "outputs": [],
   "source": [
    "# take input of age of 3 people by user and detremine oldestamong them.?\n",
    "\n",
    "age_1 = int(input(\"Enter the 1st person age :\"))\n",
    "age_2 = int(input(\"enter the 2nd person age:\"))\n",
    "age_3 = int(input(\"enter the 3rd person age :\"))\n",
    "if age_1 >= "
   ]
  }
 ],
 "metadata": {
  "kernelspec": {
   "display_name": "Python 3 (ipykernel)",
   "language": "python",
   "name": "python3"
  },
  "language_info": {
   "codemirror_mode": {
    "name": "ipython",
    "version": 3
   },
   "file_extension": ".py",
   "mimetype": "text/x-python",
   "name": "python",
   "nbconvert_exporter": "python",
   "pygments_lexer": "ipython3",
   "version": "3.12.4"
  }
 },
 "nbformat": 4,
 "nbformat_minor": 5
}
