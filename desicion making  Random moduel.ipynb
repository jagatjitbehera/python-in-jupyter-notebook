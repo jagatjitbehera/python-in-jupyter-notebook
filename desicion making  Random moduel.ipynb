{
 "cells": [
  {
   "cell_type": "code",
   "execution_count": 10,
   "id": "b948e847-8f71-4a48-8292-27877c2e6f8e",
   "metadata": {},
   "outputs": [
    {
     "name": "stdout",
     "output_type": "stream",
     "text": [
      "67 at the index 3\n"
     ]
    }
   ],
   "source": [
    "# random.\n",
    "#   -->> the random moduel in python provides function to generate the random number choose the random element form a sequence \n",
    "#        and perform random sampleing.\n",
    "\n",
    "#1. randint .\n",
    "#  it gives random number form a range \n",
    "# syntax -->> import random\n",
    "#             random.randint(start-value , end-value)\n",
    "import random\n",
    "#print(random.randint(1, 10))\n",
    "l_ = [4,4.5,12,67]\n",
    "index_ = random.randint(0,len(l_)-1)\n",
    "print(l_[index_],\"at the index\",index_)"
   ]
  },
  {
   "cell_type": "code",
   "execution_count": 15,
   "id": "9d62d924-05e4-4165-be8c-51e8d6311d30",
   "metadata": {},
   "outputs": [
    {
     "name": "stdout",
     "output_type": "stream",
     "text": [
      "Let's visit varkala\n"
     ]
    }
   ],
   "source": [
    "# 2. choice. -->> this method randomly choose a data form a squence \n",
    "# syntax -->> import random\n",
    "#             random.choice(sequence)\n",
    "\n",
    "                                        # EXAMPLE\n",
    "import random\n",
    "places = [\"Goa\",\"varkala\",\"karnataka\",\"Ap\"]\n",
    "print(\"Let's visit\",random.choice(places))"
   ]
  },
  {
   "cell_type": "code",
   "execution_count": 19,
   "id": "739d6b61-b3c1-4e51-afef-4ab4d982f666",
   "metadata": {},
   "outputs": [
    {
     "name": "stdout",
     "output_type": "stream",
     "text": [
      "tail\n"
     ]
    }
   ],
   "source": [
    "# pogram to get tail or head:\n",
    "\n",
    "import random \n",
    "num_ = random.randint(0,1)\n",
    "if num_ == 0:\n",
    "    print(\"head\")\n",
    "else:\n",
    "    print(\"tail\")"
   ]
  },
  {
   "cell_type": "code",
   "execution_count": 20,
   "id": "1d5173fc-632f-4032-8a45-9c5c934116b0",
   "metadata": {},
   "outputs": [],
   "source": [
    "# WRP to guess the number.\n"
   ]
  },
  {
   "cell_type": "code",
   "execution_count": null,
   "id": "f8f180dc-7e60-407c-8d95-ab6ba88ef867",
   "metadata": {},
   "outputs": [],
   "source": [
    "# to create a game name stone papper scissor.  "
   ]
  }
 ],
 "metadata": {
  "kernelspec": {
   "display_name": "Python 3 (ipykernel)",
   "language": "python",
   "name": "python3"
  },
  "language_info": {
   "codemirror_mode": {
    "name": "ipython",
    "version": 3
   },
   "file_extension": ".py",
   "mimetype": "text/x-python",
   "name": "python",
   "nbconvert_exporter": "python",
   "pygments_lexer": "ipython3",
   "version": "3.12.4"
  }
 },
 "nbformat": 4,
 "nbformat_minor": 5
}
