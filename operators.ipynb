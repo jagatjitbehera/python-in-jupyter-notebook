{
 "cells": [
  {
   "cell_type": "code",
   "execution_count": 1,
   "id": "e9dfc412-79a2-43ed-823d-8c1eb52b72f7",
   "metadata": {},
   "outputs": [],
   "source": [
    "                            # operators in python #"
   ]
  },
  {
   "cell_type": "code",
   "execution_count": 2,
   "id": "03019035-b84e-4289-a7e8-10b1bac04c8b",
   "metadata": {},
   "outputs": [],
   "source": [
    "# arithmetic operator\n",
    "# \" +,-,*,/,//,%,**    \""
   ]
  },
  {
   "cell_type": "code",
   "execution_count": 4,
   "id": "a89524d3-5383-46c1-a6de-d8b06e9a0fb7",
   "metadata": {},
   "outputs": [
    {
     "name": "stdout",
     "output_type": "stream",
     "text": [
      "True False\n",
      "False True\n",
      "True True False\n",
      "False True True\n",
      "True\n",
      "True\n"
     ]
    }
   ],
   "source": [
    "# 2. relational operators\n",
    "# <,>,<=,>=,==,!=,-->> boleantype\"\"\n",
    "print(3<4,5<0.1)\n",
    "print(3>4,5>0.1)\n",
    "print(3<=4,5<=5,5<0.1)\n",
    "print(3>4,4>=4,5>0.1)\n",
    "print(\"hii\"==\"hii\")\n",
    "print(\"hii\"!=\"hi\")"
   ]
  },
  {
   "cell_type": "code",
   "execution_count": 5,
   "id": "64682780-1e91-4b9d-9f7e-d5aafc49515e",
   "metadata": {},
   "outputs": [
    {
     "name": "stdout",
     "output_type": "stream",
     "text": [
      "True\n"
     ]
    }
   ],
   "source": [
    "# 3. logical operators.\n",
    "# or,and, not\n",
    "# or -->> this operator returns true if one condition will be correct\n",
    "a=2\n",
    "b=3\n",
    "print(a>=b or b>a)\n",
    "\n"
   ]
  },
  {
   "cell_type": "code",
   "execution_count": 7,
   "id": "89e71e0d-0f89-42ea-b2aa-12192c93e1de",
   "metadata": {},
   "outputs": [
    {
     "name": "stdout",
     "output_type": "stream",
     "text": [
      "True\n",
      "False\n"
     ]
    }
   ],
   "source": [
    "# and -->> this operator gives true if both condition is true.other wise it gives false.\n",
    "a=3\n",
    "b=4\n",
    "print(a<b and b>a )\n",
    "print(a>b and b>a)\n"
   ]
  },
  {
   "cell_type": "code",
   "execution_count": 8,
   "id": "303e3300-8a1a-4a6d-b2de-60b294d976df",
   "metadata": {},
   "outputs": [],
   "source": [
    "# not -->>  this operator work like != operator"
   ]
  },
  {
   "cell_type": "code",
   "execution_count": 9,
   "id": "65467dab-f761-4d52-94bd-0149b3d18c2b",
   "metadata": {},
   "outputs": [
    {
     "name": "stdout",
     "output_type": "stream",
     "text": [
      "127\n"
     ]
    }
   ],
   "source": [
    "# bit wise operator.\n",
    "# 1. or -->> | first it convort the number in binary then perform the or opeartion .and give you the resultant number.\n",
    "n1=34\n",
    "n2=78\n",
    "n3=89\n",
    "print(n1|n2|n3)\n"
   ]
  },
  {
   "cell_type": "code",
   "execution_count": 10,
   "id": "965db80a-9c1d-4ac4-9532-49c70fad9479",
   "metadata": {},
   "outputs": [
    {
     "name": "stdout",
     "output_type": "stream",
     "text": [
      "2\n"
     ]
    }
   ],
   "source": [
    "# and\n",
    "print(n1&n2)"
   ]
  },
  {
   "cell_type": "code",
   "execution_count": 11,
   "id": "014057a0-5545-41f0-8992-b9affbe2bdc5",
   "metadata": {},
   "outputs": [
    {
     "name": "stdout",
     "output_type": "stream",
     "text": [
      "-35 -41\n"
     ]
    }
   ],
   "source": [
    "# not -->  ~\n",
    "print(~34,~40)"
   ]
  },
  {
   "cell_type": "code",
   "execution_count": 12,
   "id": "09df6a49-6188-4399-92f5-ae3d1554732e",
   "metadata": {},
   "outputs": [
    {
     "name": "stdout",
     "output_type": "stream",
     "text": [
      "5\n"
     ]
    }
   ],
   "source": [
    "# xor -->> ^\"\n",
    "# same numbers -->> 0 and different number -->> 1\n",
    "n4=45\n",
    "n5=40\n",
    "print(n4^n5)"
   ]
  },
  {
   "cell_type": "code",
   "execution_count": 19,
   "id": "57159c9e-eab6-48b5-94d9-7eb0a409eac4",
   "metadata": {},
   "outputs": [
    {
     "name": "stdout",
     "output_type": "stream",
     "text": [
      "100\n",
      "hihihihi\n",
      "3.0\n",
      "0\n",
      "32\n",
      "1785793904896\n"
     ]
    }
   ],
   "source": [
    "# assignment operator.\n",
    "# =\n",
    "n=89\n",
    "# +=\n",
    "n=n+1\n",
    "n+=10\n",
    "print(n)\n",
    "# *=\n",
    "n=\"hi\"\n",
    "n*=4\n",
    "print(n)\n",
    "# /=\n",
    "n=9\n",
    "n/=3\n",
    "print(n)\n",
    "# %=\n",
    "n=34\n",
    "n%=2\n",
    "print(n)\n",
    "# -=\n",
    "n=34\n",
    "n-=2\n",
    "print(n)\n",
    "# **=\n",
    "n=34\n",
    "n**=8\n",
    "print(n)\n",
    "# //==\n",
    "n=8\n",
    "n //= 2"
   ]
  },
  {
   "cell_type": "code",
   "execution_count": 2,
   "id": "b6b94fc8-686c-43b8-b6be-efe946d17399",
   "metadata": {},
   "outputs": [
    {
     "name": "stdout",
     "output_type": "stream",
     "text": [
      "True\n",
      "True\n",
      "True\n"
     ]
    }
   ],
   "source": [
    "# identity op \n",
    "# is ->> to cheack the address is same. if it same it returns true\n",
    "print(10==10)\n",
    "n=20\n",
    "n1=20\n",
    "print(n is n1)\n",
    "\n",
    "# is not -->> to cheack the address is diff\n",
    "n2=45\n",
    "n3=\"hey\"\n",
    "print(n2 is not n3)\n"
   ]
  },
  {
   "cell_type": "code",
   "execution_count": 8,
   "id": "dae0074c-de22-4659-9736-1bb0a06708ac",
   "metadata": {},
   "outputs": [
    {
     "name": "stdout",
     "output_type": "stream",
     "text": [
      "True\n",
      "False\n",
      "False\n",
      "True\n",
      "True\n",
      "False\n"
     ]
    }
   ],
   "source": [
    "# memebership operator.\n",
    "# in\n",
    "print(\"h\" in \"hai\")\n",
    "print(\"H\" in \"hai\")\n",
    "print(\"h\"==\"hai\")\n",
    "print(\"bye\" in [\"hai\",\"hello\",\"bye\"])\n",
    "print(2 in {2:\"jaga\",3:\"kalu\"})\n",
    "j={2:\"jaga\",3:\"kalu\"}\n",
    "print(\"jaga\" in j)"
   ]
  },
  {
   "cell_type": "code",
   "execution_count": 12,
   "id": "dc785e52-bbd3-41cc-b01f-8026f888f40a",
   "metadata": {},
   "outputs": [
    {
     "name": "stdout",
     "output_type": "stream",
     "text": [
      "False\n",
      "True\n"
     ]
    }
   ],
   "source": [
    "# not in -->> it works revers of the in memebership operator.\n",
    "# if the collection item present then retrurns false if it present the it returns true.\n",
    "print(2 not in {2:\"jaga\",3:\"kalu\"})\n",
    "print(8 not in {2:\"jaga\",3:\"kalu\"})"
   ]
  },
  {
   "cell_type": "code",
   "execution_count": null,
   "id": "beebf413-cee1-4c0c-8331-1b7dcfd7a705",
   "metadata": {},
   "outputs": [],
   "source": []
  }
 ],
 "metadata": {
  "kernelspec": {
   "display_name": "Python 3 (ipykernel)",
   "language": "python",
   "name": "python3"
  },
  "language_info": {
   "codemirror_mode": {
    "name": "ipython",
    "version": 3
   },
   "file_extension": ".py",
   "mimetype": "text/x-python",
   "name": "python",
   "nbconvert_exporter": "python",
   "pygments_lexer": "ipython3",
   "version": "3.12.4"
  }
 },
 "nbformat": 4,
 "nbformat_minor": 5
}
