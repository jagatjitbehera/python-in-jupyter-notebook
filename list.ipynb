{
 "cells": [
  {
   "cell_type": "code",
   "execution_count": 1,
   "id": "3be7ce6c-a4d1-4135-a13c-62945be4fdb0",
   "metadata": {},
   "outputs": [],
   "source": [
    "# list.\n"
   ]
  },
  {
   "cell_type": "code",
   "execution_count": 3,
   "id": "bb5bc3cf-3578-4ce1-bbf1-882bd895a662",
   "metadata": {},
   "outputs": [
    {
     "name": "stdout",
     "output_type": "stream",
     "text": [
      "[23, 45, 12, 895, 34, 23]\n"
     ]
    }
   ],
   "source": [
    "#homogeneous.\n",
    "list_1=[23,45,12,895,34,23]\n",
    "print(list_1)"
   ]
  },
  {
   "cell_type": "code",
   "execution_count": 4,
   "id": "57bb353e-0980-40c3-ac7a-feb410fd90cb",
   "metadata": {},
   "outputs": [
    {
     "name": "stdout",
     "output_type": "stream",
     "text": [
      "['23', [45, 12, 895], 34.5, 23, (3+6j), False, 0]\n",
      "7\n",
      "<class 'list'>\n"
     ]
    }
   ],
   "source": [
    "# hectrogeneous\n",
    "list_2=[\"23\",[45,12,895],34.5,23,3+6j,False,0]\n",
    "print(list_2)\n",
    "print(len(list_2))\n",
    "print(type(list_2))"
   ]
  },
  {
   "cell_type": "code",
   "execution_count": 5,
   "id": "704963f0-89ba-4134-a4c6-b0583c8f9ec6",
   "metadata": {},
   "outputs": [],
   "source": [
    "# constructor."
   ]
  },
  {
   "cell_type": "code",
   "execution_count": 6,
   "id": "75b45550-3aa0-4108-ba96-cd8957dda2e8",
   "metadata": {},
   "outputs": [
    {
     "name": "stdout",
     "output_type": "stream",
     "text": [
      "[]\n"
     ]
    }
   ],
   "source": [
    "#defult value.\n",
    "print(list())"
   ]
  },
  {
   "cell_type": "code",
   "execution_count": 7,
   "id": "2315f77a-ac61-41f7-8a14-7cda103561a3",
   "metadata": {},
   "outputs": [
    {
     "name": "stdout",
     "output_type": "stream",
     "text": [
      "['b', 'a', 'n', 'g', 'a', 'l', 'o', 'r', 'e', ' ', 'i', 's', ' ', 'i', 'n', ' ', 'k', 'a', 'r', 'n']\n",
      "['bangalore', 'is', 'in', 'karn']\n"
     ]
    }
   ],
   "source": [
    "# typecasting.\n",
    "#string to list.\n",
    "# accoding to charecter.\n",
    "print(list(\"bangalore is in karn\"))\n",
    "#accoding to words.\n",
    "print(\"bangalore is in karn\".split())\n"
   ]
  },
  {
   "cell_type": "code",
   "execution_count": 8,
   "id": "3d91f873-f154-4e7a-9560-60e3c13f9ad6",
   "metadata": {},
   "outputs": [
    {
     "name": "stdout",
     "output_type": "stream",
     "text": [
      "['banglore', 34, 4.5]\n"
     ]
    }
   ],
   "source": [
    "# tuple into list.\n",
    "print(list((\"banglore\",34,4.5)))"
   ]
  },
  {
   "cell_type": "code",
   "execution_count": 9,
   "id": "f27c3f13-5c3d-40a1-80c4-926b595cccaf",
   "metadata": {},
   "outputs": [
    {
     "name": "stdout",
     "output_type": "stream",
     "text": [
      "['banglore', 34, 4.5]\n"
     ]
    }
   ],
   "source": [
    "# set into list.\n",
    "print(list({\"banglore\",34,4.5}))"
   ]
  },
  {
   "cell_type": "code",
   "execution_count": 10,
   "id": "31f3460b-76ce-4a8b-8530-53ec62a587fa",
   "metadata": {},
   "outputs": [
    {
     "name": "stdout",
     "output_type": "stream",
     "text": [
      "['banglore', 34]\n"
     ]
    }
   ],
   "source": [
    "# dictionary to list.\n",
    "print(list({\"banglore\":\"karn\",34:4.5}))"
   ]
  },
  {
   "cell_type": "code",
   "execution_count": 11,
   "id": "beaf2980-de4b-4921-a771-b71284290146",
   "metadata": {},
   "outputs": [
    {
     "name": "stdout",
     "output_type": "stream",
     "text": [
      "23\n",
      "12\n"
     ]
    }
   ],
   "source": [
    "# indexing in list.\n",
    "list_3=[\"23\",[45,12,895],34.5,23,3+6j,False,0]\n",
    "# want to access  \"23\"\n",
    "print(list_3[0])\n",
    "# want to access  12.\n",
    "print(list_3[1][-2])"
   ]
  },
  {
   "cell_type": "code",
   "execution_count": 19,
   "id": "b99ef28c-e1b3-4264-af30-ce6f72f9e272",
   "metadata": {},
   "outputs": [
    {
     "name": "stdout",
     "output_type": "stream",
     "text": [
      "['23', 34.5, (3+6j), 0]\n",
      "[[45, 12, '895'], 23, False]\n",
      "[0, False, (3+6j), 23, 34.5, [45, 12, '895'], '23']\n",
      "[False, 23, [45, 12, '895']]\n",
      "[0, (3+6j), 34.5, '23']\n"
     ]
    }
   ],
   "source": [
    "# program to get even index element.\n",
    "list_4= [\"23\",[45,12,\"895\"],34.5,23,3+6j,False,0]\n",
    "print(list_4[0::2])\n",
    "\n",
    "#program to get odd index element.\n",
    "print(list_4[1::2])\n",
    "#program  to reverse of the list.\n",
    "print(list_4[::-1])\n",
    "#programe to get even index element in reverse order.\n",
    "print(list_4[-2::-2])\n",
    "#programe to get odd index element in reverse order.\n",
    "print(list_4[-1::-2])"
   ]
  },
  {
   "cell_type": "code",
   "execution_count": 20,
   "id": "a4f92301-74bc-4c20-b075-5a7d00d7455f",
   "metadata": {},
   "outputs": [
    {
     "data": {
      "text/plain": [
       "['23', [45, 12, '895'], 34.5, 23, (3+6j), False, 0]"
      ]
     },
     "execution_count": 20,
     "metadata": {},
     "output_type": "execute_result"
    }
   ],
   "source": [
    "# revrse the nested list.\n",
    "list_4"
   ]
  },
  {
   "cell_type": "code",
   "execution_count": 21,
   "id": "e2d0fd39-409d-4ff7-9431-0e6e9fb8c3cd",
   "metadata": {},
   "outputs": [
    {
     "name": "stdout",
     "output_type": "stream",
     "text": [
      "['895', 12, 45]\n"
     ]
    }
   ],
   "source": [
    "print(list_4[1][::-1])"
   ]
  },
  {
   "cell_type": "code",
   "execution_count": 22,
   "id": "d7c5da25-cc32-4322-ae98-6d4e62d1930c",
   "metadata": {},
   "outputs": [
    {
     "name": "stdout",
     "output_type": "stream",
     "text": [
      "32\n"
     ]
    }
   ],
   "source": [
    "print(list_4[0][::-1])"
   ]
  },
  {
   "cell_type": "code",
   "execution_count": 23,
   "id": "e3ea20fe-dc51-4b52-8efa-74817035c429",
   "metadata": {},
   "outputs": [
    {
     "name": "stdout",
     "output_type": "stream",
     "text": [
      "[1, 2, 3, 'biswajit']\n"
     ]
    }
   ],
   "source": [
    "# mutable concept in list.\n",
    "li_2=[1,2,3,\"jagatjit\"]\n",
    "li_2[3]=\"biswajit\"\n",
    "print(li_2)\n"
   ]
  },
  {
   "cell_type": "code",
   "execution_count": 2,
   "id": "900953eb-e2c5-4109-8474-c1d0fd4f2797",
   "metadata": {},
   "outputs": [
    {
     "name": "stdout",
     "output_type": "stream",
     "text": [
      "[34.5, 'pushker', 43, {1, 2, 3}, [True, False], (3+6j)]\n"
     ]
    }
   ],
   "source": [
    "# METHODS IN LIST\n",
    "# adding element into list.\n",
    "# 1. append()-->>varname.append()-->> it added the element end of the list and memory address should be same.\n",
    "list1=[34.5,\"pushker\",43,{1,2,3},[True,False]]\n",
    "list1.append(3+6j)\n",
    "print(list1)"
   ]
  },
  {
   "cell_type": "code",
   "execution_count": 3,
   "id": "03c25d42-cfc3-41bf-97dc-6b0cc125aca5",
   "metadata": {},
   "outputs": [
    {
     "name": "stdout",
     "output_type": "stream",
     "text": [
      "[34.5, 'pushker', 43, {1, 2, 3}, [True, False], 's', 't', 'r', 'i', 'n', 'g']\n"
     ]
    }
   ],
   "source": [
    "#extend()-->> this method addes all the collection data type into the list.\n",
    "# the element added bydeafult will be unpack at the end of the list.\n",
    "# variablename.etend(collecton data type,iterable)\n",
    "list1=[34.5,\"pushker\",43,{1,2,3},[True,False]]\n",
    "list1.extend(\"string\")\n",
    "print(list1)"
   ]
  },
  {
   "cell_type": "code",
   "execution_count": 4,
   "id": "9752a50c-92d7-4eb0-815f-44a7571cfe5b",
   "metadata": {},
   "outputs": [
    {
     "name": "stdout",
     "output_type": "stream",
     "text": [
      "[34.5, 'pushker', 43, {1, 2, 3}, [True, False], 's', 't', 'r', 'i', 'n', 'g', 'hai', 1, 2, 3, 4]\n"
     ]
    }
   ],
   "source": [
    "list1.extend([\"hai\",1,2,3,4])\n",
    "print(list1)"
   ]
  },
  {
   "cell_type": "markdown",
   "id": "9b9ce679-08d1-457f-9eaa-4aec225e8107",
   "metadata": {},
   "source": [
    "#insert-->> this methods adds the element at specific position.\n",
    "# variablename.insert(position,element)\n"
   ]
  },
  {
   "cell_type": "code",
   "execution_count": 5,
   "id": "a93f9cd8-f0b1-4908-b27f-697aa25cfa1a",
   "metadata": {},
   "outputs": [
    {
     "name": "stdout",
     "output_type": "stream",
     "text": [
      "['bangalore', 34.5, 'pushker', 43, {1, 2, 3}, [True, False], 's', 't', 'r', 'i', 'n', 'g', 'hai', 1, 2, 3, 4]\n"
     ]
    }
   ],
   "source": [
    "list1\n",
    "list1.insert(0,\"bangalore\")\n",
    "print(list1)"
   ]
  },
  {
   "cell_type": "code",
   "execution_count": 9,
   "id": "fd42b7c0-27e2-4f55-8880-c94a78a70eb1",
   "metadata": {},
   "outputs": [
    {
     "name": "stdout",
     "output_type": "stream",
     "text": [
      "[56, 76]\n"
     ]
    }
   ],
   "source": [
    "# 2. removing element form the list\n",
    "# pop()-->>this method bydeafult removes the element form the end of the lis\n",
    "# also we can remove form the particular index by using index parameter.\n",
    "# variablename.pop([position])\n",
    "list2=[56,31,76,89]\n",
    "list2.pop()\n",
    "list2.pop(1)\n",
    "print(list2)\n",
    "\n"
   ]
  },
  {
   "cell_type": "code",
   "execution_count": 10,
   "id": "99aa5cf1-f1fd-4260-a2eb-3a1fc382ed80",
   "metadata": {},
   "outputs": [
    {
     "name": "stdout",
     "output_type": "stream",
     "text": [
      "[23, 34, 45, 45, 89, 90, 45]\n"
     ]
    }
   ],
   "source": [
    "#remove()\n",
    "\n",
    "# -->>this method removes the specific element form the list\n",
    "#-->>> it removes the first ocuurence in the list if the element is repitated\n",
    "l2=[12,23,34,45,45,45,89,90,45,]\n",
    "l2.remove(12)\n",
    "l2.remove(45)\n",
    "print(l2)"
   ]
  },
  {
   "cell_type": "code",
   "execution_count": 13,
   "id": "bbef23bc-170d-4c6e-a567-6b6554f73854",
   "metadata": {},
   "outputs": [
    {
     "name": "stdout",
     "output_type": "stream",
     "text": [
      "[23, 34, 45, 45, 90, 45]\n"
     ]
    }
   ],
   "source": [
    "#del -->> this is a key word used to remove single element or multiple elements.\n",
    "# synatx 1.single element-->> del varname [index]\n",
    "#        2. multipule value -->> del varname[satrt index:end-index:step -value]\n",
    "# indexing.\n",
    "del l2[4]\n",
    "print(l2)\n",
    "#del l2([0:2:1])\n",
    "#print(l2)"
   ]
  },
  {
   "cell_type": "code",
   "execution_count": 14,
   "id": "1373d95f-ef74-471a-b78e-9f1b2454edfd",
   "metadata": {},
   "outputs": [
    {
     "name": "stdout",
     "output_type": "stream",
     "text": [
      "[34, 45, 45]\n"
     ]
    }
   ],
   "source": [
    "del l2[0::2]\n",
    "print(l2)"
   ]
  },
  {
   "cell_type": "code",
   "execution_count": 1,
   "id": "0266b67d-59e5-4d7d-8115-0f3c1c18ed98",
   "metadata": {},
   "outputs": [
    {
     "name": "stdout",
     "output_type": "stream",
     "text": [
      "[False, True, [4, 3], 4.5, 0, 45, 'a']\n"
     ]
    }
   ],
   "source": [
    "# reverse()-->> this method reverses the list.\n",
    "#varname.reverse()\n",
    "l3=[\"a\",45,0,4.5,[4,3],True,False]\n",
    "l3.reverse()\n",
    "print(l3)"
   ]
  },
  {
   "cell_type": "code",
   "execution_count": 23,
   "id": "3a391597-e10c-4aec-8207-37378a419e20",
   "metadata": {},
   "outputs": [
    {
     "name": "stdout",
     "output_type": "stream",
     "text": [
      "6\n"
     ]
    }
   ],
   "source": [
    "# index()-->> this methods returns the index of a element act first occurence in a list.\n",
    "# syntax. -->> vaqriablename.index(element,[start-index],[end-index])\n",
    "l3\n",
    "print(l3.index(0,3))"
   ]
  },
  {
   "cell_type": "code",
   "execution_count": 6,
   "id": "ead91802-db2c-4f48-9c7c-225e7f91248c",
   "metadata": {},
   "outputs": [
    {
     "name": "stdout",
     "output_type": "stream",
     "text": [
      "2\n"
     ]
    }
   ],
   "source": [
    "# count -->> this methods return the count of repitated element in a list.\n",
    "# variablename.count(element)\n",
    "l3=[\"aaaaa\",45,0,4.5,4.5,[4,3],True,1,False]\n",
    "print(l3.count(4.5))\n",
    "\n"
   ]
  },
  {
   "cell_type": "code",
   "execution_count": 2,
   "id": "acb8c5e0-f7a5-4799-b0a4-042d2d423fe1",
   "metadata": {},
   "outputs": [
    {
     "name": "stdout",
     "output_type": "stream",
     "text": [
      "[0, 1, 3, 4, 4.5, 12, 78, 78]\n"
     ]
    }
   ],
   "source": [
    "# sort() -->> it is a method used to arrange the data in assending or desending order.\n",
    "#2. bydeafult the data will be arranged in assending order.\n",
    "#syntax--->>> variablename.sort([True/False])\n",
    "# WHILE SORTING IN ELEMENT IN A LIST MOST BE HOMOGENIOUS.\n",
    "\n",
    "#sort;\n",
    "list_=[3,4,12,78,4.5,78,0,1]\n",
    "list_.sort()\n",
    "print(list_)\n"
   ]
  },
  {
   "cell_type": "code",
   "execution_count": 4,
   "id": "2d8d934f-5373-4539-8629-46f325a85ba7",
   "metadata": {},
   "outputs": [
    {
     "name": "stdout",
     "output_type": "stream",
     "text": [
      "[0, 1, 3, 4, 4.5, 12, 78, 78]\n"
     ]
    }
   ],
   "source": [
    "list_.sort(reverse = False)\n",
    "print(list_)"
   ]
  },
  {
   "cell_type": "code",
   "execution_count": 6,
   "id": "3a47c6bc-87d5-436f-a263-bdc7d7892bea",
   "metadata": {},
   "outputs": [
    {
     "name": "stdout",
     "output_type": "stream",
     "text": [
      "[78, 78, 12, 4.5, 4, 3, 1, 0]\n"
     ]
    }
   ],
   "source": [
    "list_.sort(reverse = True)\n",
    "print(list_)"
   ]
  },
  {
   "cell_type": "code",
   "execution_count": 7,
   "id": "f1afdb2b-e1e7-438a-a66d-d431359788a9",
   "metadata": {},
   "outputs": [
    {
     "name": "stdout",
     "output_type": "stream",
     "text": [
      "['Apple', 'Van', 'Van', 'apple', 'avocado', 'grapes', 'wayanad']\n"
     ]
    }
   ],
   "source": [
    "li_a=[\"pple\",\"Apple\",\"grapes\",\"Van\",\"wayanad\",\"Van\",\"avocado\"]\n",
    "li_.sort()\n",
    "print(li_)\n",
    "# it sorted accoding to askey value of the alphabate."
   ]
  },
  {
   "cell_type": "code",
   "execution_count": 8,
   "id": "9a0b6fd4-7993-438b-80e4-aa0b835ea730",
   "metadata": {},
   "outputs": [],
   "source": [
    "li_.sort(reverse=True)"
   ]
  },
  {
   "cell_type": "code",
   "execution_count": 9,
   "id": "e4a587d8-69b5-4962-953c-d0e160b24b2e",
   "metadata": {},
   "outputs": [
    {
     "name": "stdout",
     "output_type": "stream",
     "text": [
      "['wayanad', 'grapes', 'avocado', 'apple', 'Van', 'Van', 'Apple']\n"
     ]
    }
   ],
   "source": [
    "print(li_)"
   ]
  },
  {
   "cell_type": "code",
   "execution_count": 13,
   "id": "9bd680dd-fbd9-4708-a298-828fa207eb53",
   "metadata": {},
   "outputs": [
    {
     "name": "stdout",
     "output_type": "stream",
     "text": [
      "[False, True]\n"
     ]
    }
   ],
   "source": [
    "# bolean.\n",
    "l_1=[True,False]\n",
    "l_1.sort()\n",
    "print(l_1)"
   ]
  },
  {
   "cell_type": "code",
   "execution_count": 15,
   "id": "55d73864-db3b-4b14-821e-81b5cc0678b9",
   "metadata": {},
   "outputs": [
    {
     "name": "stdout",
     "output_type": "stream",
     "text": [
      "['pple', 'Apple', 'grapes', 'Van', ['wayanad', 'Van', 'avocado']]\n",
      "['pple', 'Apple', 'grapes', 'Van', ['wayanad', 'Van', 'avocado']]\n",
      "2146790477376 2146790477376\n",
      "2146784427008 2146784427008\n"
     ]
    }
   ],
   "source": [
    "#COPYING IN LIST.\n",
    "# in copy the memory address will be  same. the list will be independent.\n",
    "li_=[\"pple\",\"Apple\",\"grapes\",\"Van\",[\"wayanad\",\"Van\",\"avocado\"]]\n",
    "l1 = li_\n",
    "print(li_)\n",
    "print(l1)\n",
    "print(id(li_),id(l1))\n",
    "print(id(li_[0]),id(l1[0]))\n"
   ]
  },
  {
   "cell_type": "code",
   "execution_count": 16,
   "id": "c820478b-5525-4aa6-84b5-8b672aca00c6",
   "metadata": {},
   "outputs": [
    {
     "name": "stdout",
     "output_type": "stream",
     "text": [
      "['pple', 'Apple', 'grapes', 'Van', ['wayanad', 'Van', 'avocado']]\n",
      "['pple', 'Apple', 'grapes', 'Van', ['wayanad', 'Van', 'avocado']]\n",
      "2146790545408 2146790545408\n",
      "2146784424080 2146784424080\n"
     ]
    }
   ],
   "source": [
    "# shallow copy-->> in shallow copy the address of main list is different and the address of of nested list returns same address.\n",
    "# deep copy.\n",
    "li_=[\"pple\",\"Apple\",\"grapes\",\"Van\",[\"wayanad\",\"Van\",\"avocado\"]]\n",
    "li_1= (li_)\n",
    "print(li_)\n",
    "print(li_1)\n",
    "print(id(li_),id(li_1))\n",
    "print(id(li_[1]),id(l1[1]))\n"
   ]
  },
  {
   "cell_type": "code",
   "execution_count": 19,
   "id": "ca33333d-1bf8-4a27-b082-881920e5efcb",
   "metadata": {},
   "outputs": [
    {
     "name": "stdout",
     "output_type": "stream",
     "text": [
      "[1, 2, 3, 4, 'jagatjit', 'subham', 'kirti', 7.9, 89, (9+6j)]\n"
     ]
    }
   ],
   "source": [
    "# OPERATORS IN LIST.\n",
    "# ARITHMETIC OPERATORS.\n",
    "#+\n",
    "list_1=[1,2,3,4]\n",
    "list_2=[\"jagatjit\",\"subham\",\"kirti\",7.9,89,9+6j]\n",
    "print(list_1+list_2)"
   ]
  },
  {
   "cell_type": "code",
   "execution_count": 21,
   "id": "79e83b12-fe0d-43a9-b645-3510b51eec8b",
   "metadata": {},
   "outputs": [
    {
     "name": "stdout",
     "output_type": "stream",
     "text": [
      "[1, 2, 3, 4, 1, 2, 3, 4, 1, 2, 3, 4, 1, 2, 3, 4, 1, 2, 3, 4, 1, 2, 3, 4]\n"
     ]
    }
   ],
   "source": [
    "# * multiplication.\n",
    "\n",
    "list_1=[1,2,3,4]\n",
    "print(list_1*6)"
   ]
  },
  {
   "cell_type": "code",
   "execution_count": 24,
   "id": "a0771f65-244a-442f-8bd6-3cd3120735f8",
   "metadata": {},
   "outputs": [
    {
     "name": "stdout",
     "output_type": "stream",
     "text": [
      "116 49 38\n",
      "ʦ\n",
      "N\n"
     ]
    }
   ],
   "source": [
    "# 14. ord () -->> it is a inbuild function used to get the ascii value of the charecter.\n",
    "# syntax -->> ord(charecter)\n",
    "print(ord(\"t\"),ord(\"1\"),ord(\"&\"))\n",
    "#15. chr() -->> it is afunction toget the charecter as ascii value.\n",
    "# syntax -->> chr(ascii value)\n",
    "print(chr(678))\n",
    "print(chr(78))"
   ]
  },
  {
   "cell_type": "code",
   "execution_count": null,
   "id": "1cb462d7-6e67-4ab6-97a7-47cbd675a4e1",
   "metadata": {},
   "outputs": [],
   "source": []
  }
 ],
 "metadata": {
  "kernelspec": {
   "display_name": "Python 3 (ipykernel)",
   "language": "python",
   "name": "python3"
  },
  "language_info": {
   "codemirror_mode": {
    "name": "ipython",
    "version": 3
   },
   "file_extension": ".py",
   "mimetype": "text/x-python",
   "name": "python",
   "nbconvert_exporter": "python",
   "pygments_lexer": "ipython3",
   "version": "3.12.4"
  }
 },
 "nbformat": 4,
 "nbformat_minor": 5
}
