{
 "cells": [
  {
   "cell_type": "code",
   "execution_count": 1,
   "id": "2ff1ae3a-b7d0-4a2a-a2b7-d4c435b1f513",
   "metadata": {},
   "outputs": [],
   "source": [
    "                                        # LOOPING."
   ]
  },
  {
   "cell_type": "code",
   "execution_count": 2,
   "id": "8ba14f27-9fa4-4892-8386-550c079a493d",
   "metadata": {},
   "outputs": [],
   "source": [
    "# LOOPING IN PYTHON IS A CONCEPT THAT ALLOWS US TO EXICUTE A BLOCK OF CODE REPETATLY.\n",
    "# IN LOOPING HAVE 4 TYPES .1 -> WHILE LOOP.\n",
    "#                         2 .-->> WHILE ELSE   LOOP\n",
    "#                         3->>     FOR LOOP\n",
    "#                         4-->>   FOR ELSE LOOP.\n"
   ]
  },
  {
   "cell_type": "code",
   "execution_count": 3,
   "id": "71347355-4635-478a-aa37-7c54484a76ec",
   "metadata": {},
   "outputs": [
    {
     "name": "stdout",
     "output_type": "stream",
     "text": [
      "1\n",
      "2\n",
      "3\n",
      "4\n",
      "5\n"
     ]
    }
   ],
   "source": [
    "                                         # WHILE LOOP.\n",
    "\n",
    "# THE WHILE LOOP IN PYTHON REPETATLY EXICUTE A BLOCK OF CODE AS  LONG AS THE CONDTION IS TRUE.\n",
    "# SYNTAX: intialize\n",
    "#         while condition:\n",
    "#             block of code.\n",
    "#             increment.\n",
    "\n",
    "# programe to print the numbers from 1 to 5.\n",
    "\n",
    "i =1\n",
    "while i <=5:\n",
    "    print(i)\n",
    "    i +=1\n",
    "\n"
   ]
  },
  {
   "cell_type": "code",
   "execution_count": 4,
   "id": "ae29b25c-8475-4791-a1c9-a6fdfd3e2d72",
   "metadata": {},
   "outputs": [
    {
     "name": "stdout",
     "output_type": "stream",
     "text": [
      "5\n",
      "4\n",
      "3\n",
      "2\n",
      "1\n"
     ]
    }
   ],
   "source": [
    "#programe to print the numbers from 5 to 1.\n",
    "i = 5\n",
    "while i >=1:\n",
    "    print(i)\n",
    "    i -= 1\n"
   ]
  },
  {
   "cell_type": "code",
   "execution_count": 7,
   "id": "b421a885-2270-4f1c-b5f8-3de1b2c3038e",
   "metadata": {},
   "outputs": [
    {
     "name": "stdout",
     "output_type": "stream",
     "text": [
      "bangalore 1\n",
      "bangalore 2\n",
      "bangalore 3\n",
      "bangalore 4\n",
      "bangalore 5\n",
      "bangalore 6\n",
      "bangalore 7\n",
      "bangalore 8\n",
      "bangalore 9\n",
      "bangalore 10\n"
     ]
    }
   ],
   "source": [
    "# wrp to print bangalore 10 times.\n",
    "i = 1\n",
    "while i <=10:\n",
    "    print(\"bangalore\",i)\n",
    "    i += 1"
   ]
  },
  {
   "cell_type": "code",
   "execution_count": 2,
   "id": "4c853f31-8ad1-4192-bd92-21d9fd30fb2e",
   "metadata": {},
   "outputs": [
    {
     "name": "stdout",
     "output_type": "stream",
     "text": [
      "enter your name: jagatjit \n",
      "enter the number: 8\n"
     ]
    },
    {
     "name": "stdout",
     "output_type": "stream",
     "text": [
      "jagatjit  1\n",
      "jagatjit  2\n",
      "jagatjit  3\n",
      "jagatjit  4\n",
      "jagatjit  5\n",
      "jagatjit  6\n",
      "jagatjit  7\n",
      "jagatjit  8\n"
     ]
    }
   ],
   "source": [
    "# wrp to print your name n times.\n",
    "name_ = input(\"enter your name:\")\n",
    "number_ = int(input(\"enter the number:\"))\n",
    "i=1\n",
    "while i <= number_:\n",
    "    print(name_, i)\n",
    "    i += 1\n"
   ]
  },
  {
   "cell_type": "code",
   "execution_count": 2,
   "id": "d9bc1d73-40b1-40fc-a5dd-8533c3f72a23",
   "metadata": {},
   "outputs": [
    {
     "name": "stdout",
     "output_type": "stream",
     "text": [
      "starting value : 1\n",
      "Ending value: 2\n"
     ]
    },
    {
     "name": "stdout",
     "output_type": "stream",
     "text": [
      "[1, 4]\n"
     ]
    },
    {
     "name": "stdout",
     "output_type": "stream",
     "text": [
      "starting value : 1\n",
      "Ending value: 90\n"
     ]
    },
    {
     "name": "stdout",
     "output_type": "stream",
     "text": [
      "[1, 4, 9, 16, 25, 36, 49, 64, 81, 100, 121, 144, 169, 196, 225, 256, 289, 324, 361, 400, 441, 484, 529, 576, 625, 676, 729, 784, 841, 900, 961, 1024, 1089, 1156, 1225, 1296, 1369, 1444, 1521, 1600, 1681, 1764, 1849, 1936, 2025, 2116, 2209, 2304, 2401, 2500, 2601, 2704, 2809, 2916, 3025, 3136, 3249, 3364, 3481, 3600, 3721, 3844, 3969, 4096, 4225, 4356, 4489, 4624, 4761, 4900, 5041, 5184, 5329, 5476, 5625, 5776, 5929, 6084, 6241, 6400, 6561, 6724, 6889, 7056, 7225, 7396, 7569, 7744, 7921, 8100]\n"
     ]
    }
   ],
   "source": [
    "# program to square the number form start to end.?\n",
    "\n",
    "start_ = int(input(\"starting value :\"))\n",
    "end_ = int(input(\"Ending value:\"))\n",
    "i = start_\n",
    "l_ = []\n",
    "while  i <= end_:\n",
    "    l_.append(i**2)\n",
    "    i += 1\n",
    "print(l_)\n",
    "# using with out method.\n",
    "start_ = int(input(\"starting value :\"))\n",
    "end_ = int(input(\"Ending value:\"))\n",
    "i = start_\n",
    "l_ = []\n",
    "while  i <= end_:\n",
    "    l_ = l_+[i**2]\n",
    "    i += 1\n",
    "print(l_)"
   ]
  },
  {
   "cell_type": "code",
   "execution_count": 7,
   "id": "62ba38b9-ce87-419f-9f01-67737c9350f7",
   "metadata": {},
   "outputs": [
    {
     "name": "stdout",
     "output_type": "stream",
     "text": [
      "enter a string: jdjdj\n"
     ]
    },
    {
     "name": "stdout",
     "output_type": "stream",
     "text": [
      "j 0\n",
      "d 1\n",
      "j 2\n",
      "d 3\n",
      "j 4\n"
     ]
    },
    {
     "name": "stdout",
     "output_type": "stream",
     "text": [
      "enter a string: jjghh\n"
     ]
    },
    {
     "name": "stdout",
     "output_type": "stream",
     "text": [
      "[('j', 0), ('j', 1), ('g', 2), ('h', 3), ('h', 4)]\n"
     ]
    }
   ],
   "source": [
    "# wrp  to get the charecter and its index number.\n",
    "str_ = input(\"enter a string:\")\n",
    "i = 0\n",
    "while i <= len(str_)-1:\n",
    "    print(str_[i],i)\n",
    "    i +=1\n",
    " # pack as tuple in a list.\n",
    "str_ = input(\"enter a string:\")\n",
    "i = 0\n",
    "l_ = []\n",
    "while i <= len(str_)-1:\n",
    "    l_.append((str_[i],i))\n",
    "    i +=1\n",
    "print(l_)\n",
    "\n"
   ]
  },
  {
   "cell_type": "code",
   "execution_count": 12,
   "id": "12e88338-8c18-4e6a-9e59-1774daddf6d6",
   "metadata": {},
   "outputs": [
    {
     "name": "stdout",
     "output_type": "stream",
     "text": [
      "enter  a list: jagatjit\n"
     ]
    },
    {
     "name": "stdout",
     "output_type": "stream",
     "text": [
      "[['j', 106], ['a', 97], ['g', 103], ['a', 97], ['t', 116], ['j', 106], ['i', 105], ['t', 116]]\n"
     ]
    }
   ],
   "source": [
    "# programe to print nested list with charecter and its ascci value.\n",
    "list_ = list(input(\"enter  a list:\"))\n",
    "i = 0\n",
    "l_ = []\n",
    "while i <= len(list_)-1:\n",
    "    l_+=[[list_[i],ord(list_[i])]]\n",
    "    i  += 1\n",
    "print(l_)    \n"
   ]
  },
  {
   "cell_type": "code",
   "execution_count": 15,
   "id": "33b943f9-52e1-4557-87c6-d1a490a4414f",
   "metadata": {},
   "outputs": [
    {
     "name": "stdout",
     "output_type": "stream",
     "text": [
      "Enter the element apple jaga\n"
     ]
    },
    {
     "name": "stdout",
     "output_type": "stream",
     "text": [
      "2\n",
      "apple 5\n",
      "jaga 4\n"
     ]
    }
   ],
   "source": [
    "# wrp to gate the element and its length by taking the input form user.\n",
    "\n",
    "ele_ = input(\"Enter the element\").split()\n",
    "print(len(ele_))\n",
    "i = 0\n",
    "while i <= len(ele_) -1:\n",
    "    print(ele_[i],len(ele_[i]))\n",
    "    i += 1\n"
   ]
  },
  {
   "cell_type": "code",
   "execution_count": 2,
   "id": "4777bfb9-eeab-4452-b598-4646b99d5ba8",
   "metadata": {},
   "outputs": [
    {
     "name": "stdout",
     "output_type": "stream",
     "text": [
      "{'g': 1, 'u': 2, 'i': 1, 'd': 1, 'o': 2, ' ': 2, 'v': 1, 'a': 1, 'n': 2, 'r': 1, 's': 2, 'm': 1}\n"
     ]
    }
   ],
   "source": [
    "# wrp count the number of each charecter in a string.\n",
    "# str1 = \"guido vann rossum\"\n",
    "name = \"guido vann rossum\"\n",
    "d_ = {}\n",
    "j =0\n",
    "while j < len(name):\n",
    "    \n",
    "    d_[name[j]] = name.count(name[j])\n",
    "    j = j+1\n",
    "print(d_)    \n",
    "    "
   ]
  },
  {
   "cell_type": "code",
   "execution_count": 2,
   "id": "7869d472-56d1-464a-af72-0ae4492d695a",
   "metadata": {},
   "outputs": [],
   "source": [
    "# wrp creat a dictionary with word and its count.\n",
    "# senten_ = \"hello world welcome to python  hello hi welcome to java\""
   ]
  },
  {
   "cell_type": "code",
   "execution_count": 3,
   "id": "8fadee10-eac4-4458-8f7c-90e2520c1c7b",
   "metadata": {},
   "outputs": [],
   "source": [
    "# dic of char and asky value pair:\n",
    "# s = \"absABS\""
   ]
  },
  {
   "cell_type": "code",
   "execution_count": 4,
   "id": "21c21ca5-073e-4bbf-b419-7bec2c032ab2",
   "metadata": {},
   "outputs": [
    {
     "name": "stdout",
     "output_type": "stream",
     "text": [
      "{'APAL': 612.45, 'JBN': 200.45}\n"
     ]
    }
   ],
   "source": [
    "# building a dic whoes price value is more than 200;\n",
    "# price = {\"AEMC\":24.5, \"APAL\":612.45,\"JBN\":200.45,\"HP\":37.80,\"FB\":10.75}\n",
    "\n",
    "price = {\"AEMC\":24.5, \"APAL\":612.45,\"JBN\":200.45,\"HP\":37.80,\"FB\":10.75}\n",
    "price_tuple = tuple(price.items())\n",
    "new_price = {} \n",
    "i = 0\n",
    "while i <= len(price_tuple)-1:\n",
    "    if  price_tuple[i][1]>= 200:\n",
    "        new_price[price_tuple[i][0]] = price_tuple[i][1]\n",
    "    i = i+1    \n",
    "print(new_price)    \n",
    "            \n"
   ]
  },
  {
   "cell_type": "code",
   "execution_count": 6,
   "id": "68ee460c-d100-4c22-82db-b8448466356a",
   "metadata": {},
   "outputs": [
    {
     "name": "stdout",
     "output_type": "stream",
     "text": [
      "{'this': 4, 'is': 2, 'a': 1, 'bunch': 5, 'of': 2, 'words': 5}\n"
     ]
    }
   ],
   "source": [
    "#\n",
    "s_ = \"this is a bunch of words\"\n",
    "words_ = s_.split()\n",
    "w_ = dict()\n",
    "i = 0\n",
    "while i < len(words_):\n",
    "    w_[words_[i]] = len(words_[i])\n",
    "    i = i+1\n",
    "print(w_)    \n",
    "\n"
   ]
  },
  {
   "cell_type": "code",
   "execution_count": 11,
   "id": "a8842bcb-da95-4a21-b25d-e7d18cba6e77",
   "metadata": {},
   "outputs": [
    {
     "name": "stdout",
     "output_type": "stream",
     "text": [
      "dict_items([('a', 1), ('b', 4), ('c', 8)])\n",
      "[('a', 1), ('b', 4), ('c', 8)]\n",
      "{1: 'a', 4: 'b', 8: 'c'}\n"
     ]
    }
   ],
   "source": [
    "# inter change the key value position.\n",
    "dic = {\"a\":1,\"b\":4,\"c\":8}\n",
    "items_ = dic.items()\n",
    "print(items_)\n",
    "items_list = list(items_)\n",
    "print(items_list)\n",
    "d_ = {}\n",
    "i = 0\n",
    "while i < len(items_list):\n",
    "    d_[items_list[i][1]] = items_list[i][0]\n",
    "    i += 1\n",
    "print(d_)    "
   ]
  },
  {
   "cell_type": "code",
   "execution_count": 18,
   "id": "c11b4422-1d23-49b2-a3f9-de2681014925",
   "metadata": {},
   "outputs": [
    {
     "name": "stdout",
     "output_type": "stream",
     "text": [
      "ENTER THE STRING: ydgydg646657366vgfyg\n"
     ]
    },
    {
     "name": "stdout",
     "output_type": "stream",
     "text": [
      "[]\n"
     ]
    }
   ],
   "source": [
    "# wrp  all the alphabates form the string.\n",
    "str_ = input(\"ENTER THE STRING:\")\n",
    "str2_ =[]\n",
    "i = 0\n",
    "while i <= len(str_)-1:\n",
    "    if str_[i] == str_.isalpha():\n",
    "        str2_.append(str_[i])\n",
    "    i = i+1\n",
    "print(str2_)"
   ]
  },
  {
   "cell_type": "code",
   "execution_count": 1,
   "id": "23772d93-a3f1-4360-bc26-a5f0d331c642",
   "metadata": {},
   "outputs": [
    {
     "name": "stdout",
     "output_type": "stream",
     "text": [
      "enter a string: bghhh 5766gft #$$$\n"
     ]
    },
    {
     "name": "stdout",
     "output_type": "stream",
     "text": [
      "['#', '$', '$', '$']\n"
     ]
    }
   ],
   "source": [
    "# wrp to get all the special charecter in a string\n",
    "str_ = input(\"enter a string:\")\n",
    "i =0\n",
    "s=[]\n",
    "while i <= len(str_)-1:\n",
    "    if not str_[i].isalnum() and not str_[i].isspace():\n",
    "        \n",
    "        s.append(str_[i])\n",
    "    i = i+1    \n",
    "print(s)"
   ]
  },
  {
   "cell_type": "code",
   "execution_count": 7,
   "id": "b3abf039-2038-4b4f-84de-94cd6fd4fdd3",
   "metadata": {},
   "outputs": [
    {
     "name": "stdout",
     "output_type": "stream",
     "text": [
      "10\n",
      "12\n",
      "19\n"
     ]
    }
   ],
   "source": [
    "# data = [\"hii\",\"hello\",10,\"12.3\",12,19,6.2] wrp to get only integer form the list.\n",
    "\n",
    "data = [\"hii\",\"hello\",10,\"12.3\",12,19,6.2]\n",
    "i = 0\n",
    "while i < len(data):\n",
    "    if type(data[i]) == int:\n",
    "        print(data[i])\n",
    "    i = i+1    \n"
   ]
  },
  {
   "cell_type": "code",
   "execution_count": 5,
   "id": "c62c5b44-2f4f-4773-b79b-03f6b6d99921",
   "metadata": {},
   "outputs": [
    {
     "name": "stdout",
     "output_type": "stream",
     "text": [
      "oeeiu\n"
     ]
    }
   ],
   "source": [
    "# wrp to print only vawels in string \n",
    "# s = python selenium\n",
    "s = \"python selenium\"\n",
    "s_=''\n",
    "i = 0\n",
    "while i <len(s):\n",
    "    if s[i] in \"aeiouAEIOU\":\n",
    "        s_ = s_+(s[i])\n",
    "    i = i+1\n",
    "print(s_)    \n",
    "\n",
    "\n"
   ]
  },
  {
   "cell_type": "code",
   "execution_count": null,
   "id": "13ddcf8e-d83e-4a20-a238-2cb729e58efd",
   "metadata": {},
   "outputs": [
    {
     "name": "stdin",
     "output_type": "stream",
     "text": [
      "enter the string: rtdtr\n"
     ]
    },
    {
     "name": "stdout",
     "output_type": "stream",
     "text": [
      "rtdtr\n"
     ]
    }
   ],
   "source": [
    "# wrp to get only alphanumeric charecter form a string.\n",
    "\n",
    "str_ = input(\"enter the string:\")\n",
    "new_ =''\n",
    "i = 0\n",
    "while i < len(str_):\n",
    "    if not str_[i].isalpha() and not str_[i].isspace() and not str_[i].isalnum():\n",
    "        pass\n",
    "    else:    \n",
    "        new_  = new_+str_[i]\n",
    "    i = i+1    \n",
    "print(new_)    \n",
    "\n",
    "\n",
    "# wrp to cheack if the given value list of string which is palindrom.\n",
    "list_ = input(\"enter a list: \").split()\n",
    "new_ = []\n",
    "i = 0\n",
    "while i < len(list_):\n",
    "    if list_[i] == list_[i][::-1]:\n",
    "        new_.append(list_[i])\n",
    "    \n",
    "    i = i+1\n",
    "print(new_)"
   ]
  },
  {
   "cell_type": "code",
   "execution_count": null,
   "id": "4bcabc21-5f3a-4bd5-8439-cd4b4a39c679",
   "metadata": {},
   "outputs": [],
   "source": []
  },
  {
   "cell_type": "code",
   "execution_count": 6,
   "id": "b2f8b4f0-d483-4eb0-85c7-c0432407fe3a",
   "metadata": {},
   "outputs": [
    {
     "name": "stdin",
     "output_type": "stream",
     "text": [
      "enter a string: hdgg366vgfyesfgdft\n"
     ]
    },
    {
     "name": "stdout",
     "output_type": "stream",
     "text": [
      "hdgg366vgfy*sfgdft\n"
     ]
    }
   ],
   "source": [
    "# replace all the vowels with * in the string \"hello world\".\n",
    "\n",
    "str1 = input(\"enter a string:\")\n",
    "i = 0\n",
    "a=\"aeiou\"\n",
    "str2 =''\n",
    "while i < len(str1):1\n",
    "    if str1[i] in a:\n",
    "       str2 = str2+ \"*\"\n",
    "    else:\n",
    "        str2 = str2+str1[i]\n",
    "    i = i+1\n",
    "print(str2)    \n",
    "   "
   ]
  },
  {
   "cell_type": "code",
   "execution_count": 12,
   "id": "5f4675bb-caf7-42da-8ac8-1e665831b593",
   "metadata": {},
   "outputs": [
    {
     "name": "stdout",
     "output_type": "stream",
     "text": [
      "p\n",
      "y\n",
      "t\n",
      "h\n",
      "o\n",
      "n\n"
     ]
    }
   ],
   "source": [
    "#                                                     for loop\n",
    "\n",
    "# a for loop in python is used to iterate over a sequence such as list,tuple,string,range and exicute a block of code for each data \n",
    "# in the sequence.\n",
    "\n",
    "# syn:  for iterator in iterable:\n",
    "#                statement\n",
    "\n",
    "\n",
    "# pograme to iterate any iterable.\n",
    "\n",
    "str_= \"python\"\n",
    "for i in str_:\n",
    "    print(i)\n"
   ]
  },
  {
   "cell_type": "code",
   "execution_count": 9,
   "id": "5a056037-6ed3-4cac-a041-6a066d1ab6ff",
   "metadata": {},
   "outputs": [
    {
     "name": "stdout",
     "output_type": "stream",
     "text": [
      "python\n",
      "java\n",
      "perl\n",
      "56\n",
      "56.5\n",
      "45\n",
      "('python', 56)\n",
      "('java', 56.5)\n",
      "('perl', 45)\n"
     ]
    }
   ],
   "source": [
    "# dictionary.\n",
    "dict_ = {\"python\":56,\n",
    "         \"java\":56.5,\n",
    "         \"perl\":45}\n",
    "for key in dict_.keys():\n",
    "    print(key)\n",
    "# for value featch.\n",
    "dict_ = {\"python\":56,\n",
    "         \"java\":56.5,\n",
    "         \"perl\":45}\n",
    "for values in dict_.values():\n",
    "    print(values)\n",
    "# for showing both key and value.\n",
    "dict_ = {\"python\":56,\n",
    "         \"java\":56.5,\n",
    "         \"perl\":45}\n",
    "for   item in dict_.items():\n",
    "    print(item)"
   ]
  },
  {
   "cell_type": "code",
   "execution_count": 10,
   "id": "701cb8d0-58fb-419b-82c8-0222c457686f",
   "metadata": {},
   "outputs": [
    {
     "name": "stdout",
     "output_type": "stream",
     "text": [
      "python 56\n",
      "java 56.5\n",
      "perl 45\n"
     ]
    }
   ],
   "source": [
    "#  for unpacking.\n",
    "dict_ = {\"python\":56,\n",
    "         \"java\":56.5,\n",
    "         \"perl\":45}\n",
    "for item in dict_.items():\n",
    "    print(item[0],item[1])"
   ]
  },
  {
   "cell_type": "code",
   "execution_count": 11,
   "id": "bede613b-36b2-411e-80e5-21e1ee6e82bd",
   "metadata": {},
   "outputs": [],
   "source": [
    "# control statement.\n",
    "# 1 . break -->> the break key word is used to exit a loop parmanetly.\n",
    "#           -->> it can be used inside for loop and while loop. \n",
    "\n",
    " # syntax:  init \n",
    "#           while condition:\n",
    "#                 if condition:\n",
    "#                        break\n",
    "\n",
    "\n",
    "#           for iter in  iterable:\n",
    "#                 if condition:\n",
    "#                        break\n"
   ]
  },
  {
   "cell_type": "code",
   "execution_count": null,
   "id": "c878e296-35d0-4117-b81d-60fda542b292",
   "metadata": {},
   "outputs": [],
   "source": [
    "# pogram to break"
   ]
  },
  {
   "cell_type": "code",
   "execution_count": 12,
   "id": "84fc05e5-6652-4dbf-b2f2-e166a833247c",
   "metadata": {},
   "outputs": [],
   "source": [
    "# 2. continue. ->> the continue key word is used to skip the rest of the code inside a loop for the recent iteration only.\n",
    "#              -->> the continue key word can be  used only inside forloop.\n",
    "\n",
    "# syntax:          for iter in  iterable:\n",
    "#                 if condition:\n",
    "#                        continue\n"
   ]
  },
  {
   "cell_type": "code",
   "execution_count": 17,
   "id": "0410244e-37a0-4ccc-b5a9-169529074f84",
   "metadata": {},
   "outputs": [
    {
     "name": "stdout",
     "output_type": "stream",
     "text": [
      "1\n",
      "3\n",
      "5\n",
      "7\n",
      "9\n"
     ]
    }
   ],
   "source": [
    "# pograme  to skip all the even number.\n",
    "t= [1,2,3,4,5,6,7,8,9,10]\n",
    "for num in t:\n",
    "    if num %2 ==0:\n",
    "        continue\n",
    "    print(num)    \n",
    "        "
   ]
  },
  {
   "cell_type": "code",
   "execution_count": 18,
   "id": "8fe1a758-312e-42f6-8033-c076aa055215",
   "metadata": {},
   "outputs": [],
   "source": [
    "# 3. pass. -->> it is a key word in python it is a null operator . it used as a place holder for feature use\n",
    "#          -->> pass key word is exicuted nothing happens it use in this situation where code is required but not necessery at this moment."
   ]
  },
  {
   "cell_type": "code",
   "execution_count": 19,
   "id": "cd43c9ce-af1f-41c1-9e9a-d96243f5dded",
   "metadata": {},
   "outputs": [
    {
     "name": "stdout",
     "output_type": "stream",
     "text": [
      "jagatjit\n"
     ]
    }
   ],
   "source": [
    "for i in [1,2,3,4]:\n",
    "    pass\n",
    "print(\"jagatjit\")    \n",
    "    "
   ]
  },
  {
   "cell_type": "code",
   "execution_count": null,
   "id": "d1d40a99-1569-4207-9dda-0f44143d1eaa",
   "metadata": {},
   "outputs": [],
   "source": [
    "#                                   inbuilt - function.\n",
    "\n",
    "# 1 range -->> this function generate a sequence of number.\n",
    "#         --->> this function most be typecasted or use a forloop to get the out put beacuse this function returns the object. \n",
    "\n",
    "# syntax : range(start-value,end-value,step-value)\n",
    "#        : start-value -> 0\n",
    "#        : end value -->> required(end-value will not be consider) \n",
    "#        : step-value -->> 1\n",
    "\n",
    "\n",
    "# 2 enumerate -->> \n",
    "# 3 zip"
   ]
  }
 ],
 "metadata": {
  "kernelspec": {
   "display_name": "Python 3 (ipykernel)",
   "language": "python",
   "name": "python3"
  },
  "language_info": {
   "codemirror_mode": {
    "name": "ipython",
    "version": 3
   },
   "file_extension": ".py",
   "mimetype": "text/x-python",
   "name": "python",
   "nbconvert_exporter": "python",
   "pygments_lexer": "ipython3",
   "version": "3.12.4"
  }
 },
 "nbformat": 4,
 "nbformat_minor": 5
}
